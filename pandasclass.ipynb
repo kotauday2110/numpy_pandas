{
 "cells": [
  {
   "cell_type": "code",
   "execution_count": 2,
   "id": "3c9fb00d-8c1f-4b35-a997-54e9e31ff2a0",
   "metadata": {},
   "outputs": [],
   "source": [
    "import numpy as np \n",
    "import pandas as pd"
   ]
  },
  {
   "cell_type": "code",
   "execution_count": 4,
   "id": "0025cf11-a5a2-406a-8719-0dcec68b1cae",
   "metadata": {},
   "outputs": [],
   "source": [
    "g7_pop =pd.Series( [35.76 , 63.95,  80.90 ,60.65, 123.09, 312.34] ) "
   ]
  },
  {
   "cell_type": "code",
   "execution_count": 6,
   "id": "531578fe-d4ea-416e-b822-df6b670516f7",
   "metadata": {},
   "outputs": [
    {
     "data": {
      "text/plain": [
       "0     35.76\n",
       "1     63.95\n",
       "2     80.90\n",
       "3     60.65\n",
       "4    123.09\n",
       "5    312.34\n",
       "dtype: float64"
      ]
     },
     "execution_count": 6,
     "metadata": {},
     "output_type": "execute_result"
    }
   ],
   "source": [
    "g7_pop"
   ]
  },
  {
   "cell_type": "code",
   "execution_count": 8,
   "id": "993a1429-92c5-4778-af39-f46def16158e",
   "metadata": {},
   "outputs": [],
   "source": [
    "g7_pop.name ='G7 population in millions'"
   ]
  },
  {
   "cell_type": "code",
   "execution_count": 10,
   "id": "f31ff8d5-06a9-475d-b516-c692e8a46b92",
   "metadata": {},
   "outputs": [
    {
     "data": {
      "text/plain": [
       "0     35.76\n",
       "1     63.95\n",
       "2     80.90\n",
       "3     60.65\n",
       "4    123.09\n",
       "5    312.34\n",
       "Name: G7 population in millions, dtype: float64"
      ]
     },
     "execution_count": 10,
     "metadata": {},
     "output_type": "execute_result"
    }
   ],
   "source": [
    "g7_pop"
   ]
  },
  {
   "cell_type": "code",
   "execution_count": 12,
   "id": "f042a308-8bbb-48ed-a4da-ecfdeec51879",
   "metadata": {},
   "outputs": [
    {
     "data": {
      "text/plain": [
       "dtype('float64')"
      ]
     },
     "execution_count": 12,
     "metadata": {},
     "output_type": "execute_result"
    }
   ],
   "source": [
    "g7_pop.dtype"
   ]
  },
  {
   "cell_type": "code",
   "execution_count": 14,
   "id": "05bf5856-e276-460b-beea-4291c4c44cd0",
   "metadata": {},
   "outputs": [
    {
     "data": {
      "text/plain": [
       "array([ 35.76,  63.95,  80.9 ,  60.65, 123.09, 312.34])"
      ]
     },
     "execution_count": 14,
     "metadata": {},
     "output_type": "execute_result"
    }
   ],
   "source": [
    "g7_pop.values"
   ]
  },
  {
   "cell_type": "code",
   "execution_count": 16,
   "id": "4256dd6b-d5c1-4454-b366-91c580e2f43d",
   "metadata": {},
   "outputs": [
    {
     "data": {
      "text/plain": [
       "numpy.ndarray"
      ]
     },
     "execution_count": 16,
     "metadata": {},
     "output_type": "execute_result"
    }
   ],
   "source": [
    "type(g7_pop.values)"
   ]
  },
  {
   "cell_type": "code",
   "execution_count": 18,
   "id": "12bb4fee-99a1-4086-b741-8c5a2da84b39",
   "metadata": {},
   "outputs": [
    {
     "data": {
      "text/plain": [
       "35.76"
      ]
     },
     "execution_count": 18,
     "metadata": {},
     "output_type": "execute_result"
    }
   ],
   "source": [
    "g7_pop[0]"
   ]
  },
  {
   "cell_type": "code",
   "execution_count": 20,
   "id": "3ed8abf1-2155-4e84-9d1b-0952614211fa",
   "metadata": {},
   "outputs": [
    {
     "data": {
      "text/plain": [
       "60.65"
      ]
     },
     "execution_count": 20,
     "metadata": {},
     "output_type": "execute_result"
    }
   ],
   "source": [
    "g7_pop[3]"
   ]
  },
  {
   "cell_type": "code",
   "execution_count": 22,
   "id": "b8944483-bb39-4a5a-9836-13b13bf2569d",
   "metadata": {},
   "outputs": [
    {
     "data": {
      "text/plain": [
       "RangeIndex(start=0, stop=6, step=1)"
      ]
     },
     "execution_count": 22,
     "metadata": {},
     "output_type": "execute_result"
    }
   ],
   "source": [
    "g7_pop.index"
   ]
  },
  {
   "cell_type": "code",
   "execution_count": 24,
   "id": "58c8a8b8-29d1-416e-a76a-f2f264fb374c",
   "metadata": {},
   "outputs": [],
   "source": [
    "   g7_pop.index= [\n",
    "       'canada' ,\n",
    "       'france' ,\n",
    "       'germany ',\n",
    "       'italy' ,\n",
    "       'japan', \n",
    "       'united kingdom', ]\n"
   ]
  },
  {
   "cell_type": "code",
   "execution_count": 41,
   "id": "721c5755-a0da-4383-8e78-0983088b993b",
   "metadata": {},
   "outputs": [
    {
     "data": {
      "text/plain": [
       "Index(['canada', 'france', 'germany ', 'italy', 'japan', 'united kingdom'], dtype='object')"
      ]
     },
     "execution_count": 41,
     "metadata": {},
     "output_type": "execute_result"
    }
   ],
   "source": [
    "g7_pop.index"
   ]
  },
  {
   "cell_type": "code",
   "execution_count": null,
   "id": "2e1db145-238c-4d20-a0ac-728fc21e7aaf",
   "metadata": {},
   "outputs": [],
   "source": []
  },
  {
   "cell_type": "code",
   "execution_count": 43,
   "id": "de94c2a0-33ad-4a21-b3d7-1dae863c9d6f",
   "metadata": {},
   "outputs": [
    {
     "data": {
      "text/plain": [
       "canada             35.76\n",
       "france             63.95\n",
       "germany            80.90\n",
       "italy              60.65\n",
       "japan             123.09\n",
       "united kingdom    312.34\n",
       "Name: G7 population in millions, dtype: float64"
      ]
     },
     "execution_count": 43,
     "metadata": {},
     "output_type": "execute_result"
    }
   ],
   "source": [
    "g7_pop"
   ]
  },
  {
   "cell_type": "code",
   "execution_count": 47,
   "id": "4ad34434-cb19-4eba-9019-9f1e52b63bc8",
   "metadata": {},
   "outputs": [],
   "source": [
    "# the above output is not totally as series we have just given the \n",
    "# indices names as the country now we do it directly by \n"
   ]
  },
  {
   "cell_type": "code",
   "execution_count": 67,
   "id": "b546917a-2117-47d2-aebb-99199a212858",
   "metadata": {
    "scrolled": true
   },
   "outputs": [
    {
     "data": {
      "text/plain": [
       "canada             35.467\n",
       "france             63.951\n",
       "germany            80.940\n",
       "italy             127.640\n",
       "united kingdom     64.522\n",
       "united states     318.323\n",
       "Name: G7 population in millions, dtype: float64"
      ]
     },
     "execution_count": 67,
     "metadata": {},
     "output_type": "execute_result"
    }
   ],
   "source": [
    "pd.Series({\n",
    "    'canada': 35.467,\n",
    "    'france': 63.951,\n",
    "    'germany': 80.94,\n",
    "    'italy': 127.64,\n",
    "    'united kingdom': 64.522,\n",
    "    'united states': 318.323\n",
    "}, name='G7 population in millions')\n"
   ]
  },
  {
   "cell_type": "code",
   "execution_count": 30,
   "id": "8ef760b0-5124-4542-a640-1139865846ed",
   "metadata": {},
   "outputs": [
    {
     "data": {
      "text/plain": [
       "canada             35.467\n",
       "france             63.951\n",
       "germany            80.940\n",
       "italy             127.640\n",
       "united kingdom     64.522\n",
       "united states     318.323\n",
       "Name: G7 population in millions, dtype: float64"
      ]
     },
     "execution_count": 30,
     "metadata": {},
     "output_type": "execute_result"
    }
   ],
   "source": [
    "#the above thing can also be written as \n",
    "pd.Series([35.467,63.951,80.94,127.64,64.522,318.323] ,\n",
    "          index=[ 'canada', 'france', 'germany','italy', 'united kingdom','united states'] , name = 'G7 population in millions')"
   ]
  },
  {
   "cell_type": "code",
   "execution_count": 69,
   "id": "fe2bebb1-a87c-4b07-ad84-76a7a29b2891",
   "metadata": {},
   "outputs": [
    {
     "data": {
      "text/plain": [
       "canada             35.467\n",
       "france             63.951\n",
       "germany            80.940\n",
       "italy             127.640\n",
       "united kingdom     64.522\n",
       "united states     318.323\n",
       "Name: G7 population in millions, dtype: float64"
      ]
     },
     "execution_count": 69,
     "metadata": {},
     "output_type": "execute_result"
    }
   ],
   "source": [
    "g7_pop"
   ]
  },
  {
   "cell_type": "code",
   "execution_count": 71,
   "id": "6ea80afc-af9c-4ac2-8e0b-8e43c84458d0",
   "metadata": {},
   "outputs": [
    {
     "data": {
      "text/plain": [
       "35.467"
      ]
     },
     "execution_count": 71,
     "metadata": {},
     "output_type": "execute_result"
    }
   ],
   "source": [
    "g7_pop['canada']"
   ]
  },
  {
   "cell_type": "code",
   "execution_count": 73,
   "id": "b42c9d83-b500-49c9-a6f8-cdcd211f9505",
   "metadata": {},
   "outputs": [
    {
     "data": {
      "text/plain": [
       "Index(['canada', 'france', 'germany', 'italy', 'united kingdom',\n",
       "       'united states'],\n",
       "      dtype='object')"
      ]
     },
     "execution_count": 73,
     "metadata": {},
     "output_type": "execute_result"
    }
   ],
   "source": [
    "g7_pop.index"
   ]
  },
  {
   "cell_type": "code",
   "execution_count": 75,
   "id": "a68e3ec7-2a40-4360-ae02-6fbee0414622",
   "metadata": {},
   "outputs": [
    {
     "data": {
      "text/plain": [
       "35.467"
      ]
     },
     "execution_count": 75,
     "metadata": {},
     "output_type": "execute_result"
    }
   ],
   "source": [
    "g7_pop.iloc[0]"
   ]
  },
  {
   "cell_type": "code",
   "execution_count": 77,
   "id": "bddb18a8-cded-4f11-b163-acd1240e02ba",
   "metadata": {},
   "outputs": [
    {
     "data": {
      "text/plain": [
       "318.323"
      ]
     },
     "execution_count": 77,
     "metadata": {},
     "output_type": "execute_result"
    }
   ],
   "source": [
    "g7_pop.iloc[-1]"
   ]
  },
  {
   "cell_type": "code",
   "execution_count": 83,
   "id": "a49849c8-d567-4837-a79c-a7b28dc44bc9",
   "metadata": {},
   "outputs": [
    {
     "data": {
      "text/plain": [
       "italy     127.640\n",
       "france     63.951\n",
       "Name: G7 population in millions, dtype: float64"
      ]
     },
     "execution_count": 83,
     "metadata": {},
     "output_type": "execute_result"
    }
   ],
   "source": [
    "g7_pop[['italy' , 'france']]\n",
    "         "
   ]
  },
  {
   "cell_type": "code",
   "execution_count": 87,
   "id": "28fb6fa2-1de1-4bac-b99b-0ff3b9350ee7",
   "metadata": {},
   "outputs": [
    {
     "data": {
      "text/plain": [
       "canada    35.467\n",
       "france    63.951\n",
       "Name: G7 population in millions, dtype: float64"
      ]
     },
     "execution_count": 87,
     "metadata": {},
     "output_type": "execute_result"
    }
   ],
   "source": [
    "g7_pop.iloc[[0,1]]"
   ]
  },
  {
   "cell_type": "code",
   "execution_count": 101,
   "id": "f9e10dc2-bc7c-4637-94ee-0b2a33f7d53a",
   "metadata": {
    "scrolled": true
   },
   "outputs": [
    {
     "data": {
      "text/plain": [
       "canada      35.467\n",
       "france      63.951\n",
       "germany     80.940\n",
       "italy      127.640\n",
       "Name: G7 population in millions, dtype: float64"
      ]
     },
     "execution_count": 101,
     "metadata": {},
     "output_type": "execute_result"
    }
   ],
   "source": [
    "g7_pop[ 'canada': 'italy'] # HERE ITALY ALSO INCLUDED"
   ]
  },
  {
   "cell_type": "code",
   "execution_count": 93,
   "id": "cff79144-fcb0-48bb-9148-e55edcabf5f9",
   "metadata": {},
   "outputs": [],
   "source": [
    "L =['A' ,'B' ,'C']"
   ]
  },
  {
   "cell_type": "code",
   "execution_count": 95,
   "id": "466d2c4e-1a85-4c20-a03e-7aab6f53f5c4",
   "metadata": {},
   "outputs": [
    {
     "data": {
      "text/plain": [
       "['A', 'B', 'C']"
      ]
     },
     "execution_count": 95,
     "metadata": {},
     "output_type": "execute_result"
    }
   ],
   "source": [
    "L"
   ]
  },
  {
   "cell_type": "code",
   "execution_count": 103,
   "id": "97436bd3-cbc7-40b5-97ff-9f0bc19cd40f",
   "metadata": {},
   "outputs": [
    {
     "data": {
      "text/plain": [
       "['A', 'B']"
      ]
     },
     "execution_count": 103,
     "metadata": {},
     "output_type": "execute_result"
    }
   ],
   "source": [
    "L[0:2] # HERE IN LIST THE SECOND ELEMENT IS EXCLUDED"
   ]
  },
  {
   "cell_type": "code",
   "execution_count": 105,
   "id": "ff20a438-d8c0-4cda-86fe-8c81a88326ef",
   "metadata": {},
   "outputs": [],
   "source": [
    "# boolean series"
   ]
  },
  {
   "cell_type": "code",
   "execution_count": 107,
   "id": "28c6a149-87ef-4c79-ba26-8c4839f56707",
   "metadata": {},
   "outputs": [
    {
     "data": {
      "text/plain": [
       "canada            False\n",
       "france            False\n",
       "germany            True\n",
       "italy              True\n",
       "united kingdom    False\n",
       "united states      True\n",
       "Name: G7 population in millions, dtype: bool"
      ]
     },
     "execution_count": 107,
     "metadata": {},
     "output_type": "execute_result"
    }
   ],
   "source": [
    " g7_pop >70"
   ]
  },
  {
   "cell_type": "code",
   "execution_count": 111,
   "id": "bcc34ccb-ddfa-4296-9afd-f102539edc7f",
   "metadata": {},
   "outputs": [
    {
     "data": {
      "text/plain": [
       "germany           80.940\n",
       "italy            127.640\n",
       "united states    318.323\n",
       "Name: G7 population in millions, dtype: float64"
      ]
     },
     "execution_count": 111,
     "metadata": {},
     "output_type": "execute_result"
    }
   ],
   "source": [
    "g7_pop[g7_pop >70 ] # here 70 is also million  if want to compare with lacks then multiply g7_pop with 1000000 ie it is converted normal number now compare with any number"
   ]
  },
  {
   "cell_type": "code",
   "execution_count": 113,
   "id": "54824f18-7412-4ee3-9046-6e5214696f83",
   "metadata": {},
   "outputs": [
    {
     "data": {
      "text/plain": [
       "115.14049999999999"
      ]
     },
     "execution_count": 113,
     "metadata": {},
     "output_type": "execute_result"
    }
   ],
   "source": [
    "g7_pop.mean()"
   ]
  },
  {
   "cell_type": "code",
   "execution_count": 117,
   "id": "9c485392-b9d9-49f5-9364-056dcbb08cd0",
   "metadata": {},
   "outputs": [
    {
     "data": {
      "text/plain": [
       "canada            3.568603\n",
       "france            4.158117\n",
       "germany           4.393708\n",
       "italy             4.849214\n",
       "united kingdom    4.167006\n",
       "united states     5.763067\n",
       "Name: G7 population in millions, dtype: float64"
      ]
     },
     "execution_count": 117,
     "metadata": {},
     "output_type": "execute_result"
    }
   ],
   "source": [
    "np.log(g7_pop)"
   ]
  },
  {
   "cell_type": "code",
   "execution_count": 119,
   "id": "5d847ab1-9749-4400-8389-59ef00a2867d",
   "metadata": {},
   "outputs": [
    {
     "data": {
      "text/plain": [
       "90.84366666666666"
      ]
     },
     "execution_count": 119,
     "metadata": {},
     "output_type": "execute_result"
    }
   ],
   "source": [
    "ug7_pop['france' : 'italy' ].mean() #italy also inclded"
   ]
  },
  {
   "cell_type": "code",
   "execution_count": 132,
   "id": "c676ddf8-bb3f-41a5-864b-6867df668351",
   "metadata": {},
   "outputs": [
    {
     "data": {
      "text/plain": [
       "canada             35.467\n",
       "france             63.951\n",
       "germany            80.940\n",
       "italy             127.640\n",
       "united kingdom     64.522\n",
       "united states     318.323\n",
       "Name: G7 population in millions, dtype: float64"
      ]
     },
     "execution_count": 132,
     "metadata": {},
     "output_type": "execute_result"
    }
   ],
   "source": [
    "g7_pop[(g7_pop > 70) | (g7_pop <=200 )]"
   ]
  },
  {
   "cell_type": "code",
   "execution_count": 128,
   "id": "7f484a32-9e69-4a84-acb5-565e54d0cf27",
   "metadata": {},
   "outputs": [
    {
     "data": {
      "text/plain": [
       "germany     80.94\n",
       "italy      127.64\n",
       "Name: G7 population in millions, dtype: float64"
      ]
     },
     "execution_count": 128,
     "metadata": {},
     "output_type": "execute_result"
    }
   ],
   "source": [
    "g7_pop[(g7_pop > 70) & (g7_pop <= 200)]\n"
   ]
  },
  {
   "cell_type": "code",
   "execution_count": 134,
   "id": "bb5e3b62-1ba8-4804-9e51-10466954070d",
   "metadata": {},
   "outputs": [],
   "source": [
    "#movuing series"
   ]
  },
  {
   "cell_type": "code",
   "execution_count": 140,
   "id": "d2445640-7b2f-4796-b161-14a17d95b595",
   "metadata": {},
   "outputs": [
    {
     "data": {
      "text/plain": [
       "canada             40.000\n",
       "france             63.951\n",
       "germany            80.940\n",
       "italy             127.640\n",
       "united kingdom     64.522\n",
       "united states     318.323\n",
       "Name: G7 population in millions, dtype: float64"
      ]
     },
     "execution_count": 140,
     "metadata": {},
     "output_type": "execute_result"
    }
   ],
   "source": [
    "g7_pop['canada'] = 40\n",
    "g7_pop"
   ]
  },
  {
   "cell_type": "code",
   "execution_count": 142,
   "id": "a8c9d63e-69ca-4c3b-9cf3-afff6ff93922",
   "metadata": {},
   "outputs": [
    {
     "data": {
      "text/plain": [
       "canada             40.000\n",
       "france             63.951\n",
       "germany            80.940\n",
       "italy             127.640\n",
       "united kingdom     64.522\n",
       "united states     500.000\n",
       "Name: G7 population in millions, dtype: float64"
      ]
     },
     "execution_count": 142,
     "metadata": {},
     "output_type": "execute_result"
    }
   ],
   "source": [
    "g7_pop.iloc[-1] = 500\n",
    "g7_pop"
   ]
  },
  {
   "cell_type": "code",
   "execution_count": 147,
   "id": "486e68cb-a492-442f-a8fc-afb6b92de1cf",
   "metadata": {},
   "outputs": [
    {
     "data": {
      "text/plain": [
       "canada             90.00\n",
       "france             90.00\n",
       "germany            80.94\n",
       "italy             127.64\n",
       "united kingdom     90.00\n",
       "united states     500.00\n",
       "Name: G7 population in millions, dtype: float64"
      ]
     },
     "execution_count": 147,
     "metadata": {},
     "output_type": "execute_result"
    }
   ],
   "source": [
    "g7_pop[g7_pop <70 ] = 90\n",
    "g7_pop"
   ]
  },
  {
   "cell_type": "code",
   "execution_count": null,
   "id": "b77830e3-bedc-4d8d-9a2c-2af3d4b01271",
   "metadata": {},
   "outputs": [],
   "source": []
  }
 ],
 "metadata": {
  "kernelspec": {
   "display_name": "Python 3 (ipykernel)",
   "language": "python",
   "name": "python3"
  },
  "language_info": {
   "codemirror_mode": {
    "name": "ipython",
    "version": 3
   },
   "file_extension": ".py",
   "mimetype": "text/x-python",
   "name": "python",
   "nbconvert_exporter": "python",
   "pygments_lexer": "ipython3",
   "version": "3.12.4"
  }
 },
 "nbformat": 4,
 "nbformat_minor": 5
}
