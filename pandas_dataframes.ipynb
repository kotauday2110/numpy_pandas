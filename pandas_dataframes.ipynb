{
 "cells": [
  {
   "cell_type": "code",
   "execution_count": 1,
   "id": "40f28e9b-8802-4b54-8440-eef5189b65d2",
   "metadata": {},
   "outputs": [],
   "source": [
    "# creating tables (data frames) through pandas"
   ]
  },
  {
   "cell_type": "code",
   "execution_count": 3,
   "id": "312251f2-408d-40bd-9923-ea33648d74f5",
   "metadata": {},
   "outputs": [],
   "source": [
    "import numpy as np"
   ]
  },
  {
   "cell_type": "code",
   "execution_count": 5,
   "id": "2d867c6c-4f6b-41ae-8f81-0ea6b3147b47",
   "metadata": {},
   "outputs": [],
   "source": [
    "import pandas as  pd"
   ]
  },
  {
   "cell_type": "code",
   "execution_count": 4,
   "id": "0fa32085-6c3c-456e-97ee-0cec2de1ffe3",
   "metadata": {},
   "outputs": [],
   "source": [
    "import pandas as  pd\n",
    "df = pd.DataFrame({\n",
    "    'population' : [35.34,84.45, 94.434 ,403] ,\n",
    "     'gdp' : [175, 234 , 948, 433] ,\n",
    "     'surface area' : [9393, 5930,3348, 8489] ,\n",
    "     'hdi' : [0.3, 0.2, 0.6, 0.44] ,\n",
    "      'continent' : [ 'America' , 'europe', 'europe', 'asia']\n",
    "}, columns = ['population', 'gdp', 'surface area' , 'hdi', 'continent'])\n",
    "    "
   ]
  },
  {
   "cell_type": "code",
   "execution_count": 6,
   "id": "483afde5-44dd-49b4-b9f0-6aa86c794a2b",
   "metadata": {},
   "outputs": [
    {
     "data": {
      "text/html": [
       "<div>\n",
       "<style scoped>\n",
       "    .dataframe tbody tr th:only-of-type {\n",
       "        vertical-align: middle;\n",
       "    }\n",
       "\n",
       "    .dataframe tbody tr th {\n",
       "        vertical-align: top;\n",
       "    }\n",
       "\n",
       "    .dataframe thead th {\n",
       "        text-align: right;\n",
       "    }\n",
       "</style>\n",
       "<table border=\"1\" class=\"dataframe\">\n",
       "  <thead>\n",
       "    <tr style=\"text-align: right;\">\n",
       "      <th></th>\n",
       "      <th>population</th>\n",
       "      <th>gdp</th>\n",
       "      <th>surface area</th>\n",
       "      <th>hdi</th>\n",
       "      <th>continent</th>\n",
       "    </tr>\n",
       "  </thead>\n",
       "  <tbody>\n",
       "    <tr>\n",
       "      <th>0</th>\n",
       "      <td>35.340</td>\n",
       "      <td>175</td>\n",
       "      <td>9393</td>\n",
       "      <td>0.30</td>\n",
       "      <td>America</td>\n",
       "    </tr>\n",
       "    <tr>\n",
       "      <th>1</th>\n",
       "      <td>84.450</td>\n",
       "      <td>234</td>\n",
       "      <td>5930</td>\n",
       "      <td>0.20</td>\n",
       "      <td>europe</td>\n",
       "    </tr>\n",
       "    <tr>\n",
       "      <th>2</th>\n",
       "      <td>94.434</td>\n",
       "      <td>948</td>\n",
       "      <td>3348</td>\n",
       "      <td>0.60</td>\n",
       "      <td>europe</td>\n",
       "    </tr>\n",
       "    <tr>\n",
       "      <th>3</th>\n",
       "      <td>403.000</td>\n",
       "      <td>433</td>\n",
       "      <td>8489</td>\n",
       "      <td>0.44</td>\n",
       "      <td>asia</td>\n",
       "    </tr>\n",
       "  </tbody>\n",
       "</table>\n",
       "</div>"
      ],
      "text/plain": [
       "   population  gdp  surface area   hdi continent\n",
       "0      35.340  175          9393  0.30   America\n",
       "1      84.450  234          5930  0.20    europe\n",
       "2      94.434  948          3348  0.60    europe\n",
       "3     403.000  433          8489  0.44      asia"
      ]
     },
     "execution_count": 6,
     "metadata": {},
     "output_type": "execute_result"
    }
   ],
   "source": [
    "df\n"
   ]
  },
  {
   "cell_type": "code",
   "execution_count": 29,
   "id": "e2daa93f-7bef-452c-871b-d555fc2ba9e8",
   "metadata": {},
   "outputs": [],
   "source": [
    "df.index=[\n",
    "    'canada', 'france', 'germany', 'italy' ]"
   ]
  },
  {
   "cell_type": "code",
   "execution_count": 24,
   "id": "9d237aa0-7d95-4ea6-bc8b-b432c59de664",
   "metadata": {},
   "outputs": [
    {
     "data": {
      "text/html": [
       "<div>\n",
       "<style scoped>\n",
       "    .dataframe tbody tr th:only-of-type {\n",
       "        vertical-align: middle;\n",
       "    }\n",
       "\n",
       "    .dataframe tbody tr th {\n",
       "        vertical-align: top;\n",
       "    }\n",
       "\n",
       "    .dataframe thead th {\n",
       "        text-align: right;\n",
       "    }\n",
       "</style>\n",
       "<table border=\"1\" class=\"dataframe\">\n",
       "  <thead>\n",
       "    <tr style=\"text-align: right;\">\n",
       "      <th></th>\n",
       "      <th>population</th>\n",
       "      <th>gdp</th>\n",
       "      <th>surface area</th>\n",
       "      <th>hdi</th>\n",
       "      <th>continent</th>\n",
       "    </tr>\n",
       "  </thead>\n",
       "  <tbody>\n",
       "    <tr>\n",
       "      <th>canada</th>\n",
       "      <td>35.340</td>\n",
       "      <td>175</td>\n",
       "      <td>9393</td>\n",
       "      <td>0.30</td>\n",
       "      <td>America</td>\n",
       "    </tr>\n",
       "    <tr>\n",
       "      <th>france</th>\n",
       "      <td>84.450</td>\n",
       "      <td>234</td>\n",
       "      <td>5930</td>\n",
       "      <td>0.20</td>\n",
       "      <td>europe</td>\n",
       "    </tr>\n",
       "    <tr>\n",
       "      <th>germany</th>\n",
       "      <td>94.434</td>\n",
       "      <td>948</td>\n",
       "      <td>3348</td>\n",
       "      <td>0.60</td>\n",
       "      <td>europe</td>\n",
       "    </tr>\n",
       "    <tr>\n",
       "      <th>italy</th>\n",
       "      <td>403.000</td>\n",
       "      <td>433</td>\n",
       "      <td>8489</td>\n",
       "      <td>0.44</td>\n",
       "      <td>asia</td>\n",
       "    </tr>\n",
       "  </tbody>\n",
       "</table>\n",
       "</div>"
      ],
      "text/plain": [
       "         population  gdp  surface area   hdi continent\n",
       "canada       35.340  175          9393  0.30   America\n",
       "france       84.450  234          5930  0.20    europe\n",
       "germany      94.434  948          3348  0.60    europe\n",
       "italy       403.000  433          8489  0.44      asia"
      ]
     },
     "execution_count": 24,
     "metadata": {},
     "output_type": "execute_result"
    }
   ],
   "source": [
    "df"
   ]
  },
  {
   "cell_type": "code",
   "execution_count": 11,
   "id": "6914733f-83be-42b3-9dcf-13518443f095",
   "metadata": {},
   "outputs": [
    {
     "data": {
      "text/plain": [
       "Index(['population', 'gdp', 'surface area', 'hdi', 'contine'], dtype='object')"
      ]
     },
     "execution_count": 11,
     "metadata": {},
     "output_type": "execute_result"
    }
   ],
   "source": [
    "df.columns"
   ]
  },
  {
   "cell_type": "code",
   "execution_count": 30,
   "id": "71c3ae34-dfd9-4754-b9b0-b2357886a922",
   "metadata": {},
   "outputs": [
    {
     "data": {
      "text/plain": [
       "20"
      ]
     },
     "execution_count": 30,
     "metadata": {},
     "output_type": "execute_result"
    }
   ],
   "source": [
    "df.size"
   ]
  },
  {
   "cell_type": "code",
   "execution_count": 32,
   "id": "9f28c226-22d6-435c-bdcf-3f8ed33c8547",
   "metadata": {},
   "outputs": [
    {
     "data": {
      "text/plain": [
       "(4, 5)"
      ]
     },
     "execution_count": 32,
     "metadata": {},
     "output_type": "execute_result"
    }
   ],
   "source": [
    "df.shape"
   ]
  },
  {
   "cell_type": "code",
   "execution_count": 13,
   "id": "ada2afbe-b404-4632-a9b8-5a82f4f8dc7d",
   "metadata": {},
   "outputs": [
    {
     "name": "stdout",
     "output_type": "stream",
     "text": [
      "<class 'pandas.core.frame.DataFrame'>\n",
      "RangeIndex: 4 entries, 0 to 3\n",
      "Data columns (total 5 columns):\n",
      " #   Column        Non-Null Count  Dtype  \n",
      "---  ------        --------------  -----  \n",
      " 0   population    4 non-null      float64\n",
      " 1   gdp           4 non-null      int64  \n",
      " 2   surface area  4 non-null      int64  \n",
      " 3   hdi           4 non-null      float64\n",
      " 4   contine       0 non-null      object \n",
      "dtypes: float64(2), int64(2), object(1)\n",
      "memory usage: 292.0+ bytes\n"
     ]
    }
   ],
   "source": [
    "df.info()"
   ]
  },
  {
   "cell_type": "code",
   "execution_count": 36,
   "id": "4adc78c9-97b7-42e7-b8d0-02d2f685d290",
   "metadata": {},
   "outputs": [
    {
     "data": {
      "text/html": [
       "<div>\n",
       "<style scoped>\n",
       "    .dataframe tbody tr th:only-of-type {\n",
       "        vertical-align: middle;\n",
       "    }\n",
       "\n",
       "    .dataframe tbody tr th {\n",
       "        vertical-align: top;\n",
       "    }\n",
       "\n",
       "    .dataframe thead th {\n",
       "        text-align: right;\n",
       "    }\n",
       "</style>\n",
       "<table border=\"1\" class=\"dataframe\">\n",
       "  <thead>\n",
       "    <tr style=\"text-align: right;\">\n",
       "      <th></th>\n",
       "      <th>population</th>\n",
       "      <th>gdp</th>\n",
       "      <th>surface area</th>\n",
       "      <th>hdi</th>\n",
       "    </tr>\n",
       "  </thead>\n",
       "  <tbody>\n",
       "    <tr>\n",
       "      <th>count</th>\n",
       "      <td>4.000000</td>\n",
       "      <td>4.000000</td>\n",
       "      <td>4.000000</td>\n",
       "      <td>4.000000</td>\n",
       "    </tr>\n",
       "    <tr>\n",
       "      <th>mean</th>\n",
       "      <td>154.306000</td>\n",
       "      <td>447.500000</td>\n",
       "      <td>6790.000000</td>\n",
       "      <td>0.385000</td>\n",
       "    </tr>\n",
       "    <tr>\n",
       "      <th>std</th>\n",
       "      <td>167.795641</td>\n",
       "      <td>351.448906</td>\n",
       "      <td>2723.305222</td>\n",
       "      <td>0.173877</td>\n",
       "    </tr>\n",
       "    <tr>\n",
       "      <th>min</th>\n",
       "      <td>35.340000</td>\n",
       "      <td>175.000000</td>\n",
       "      <td>3348.000000</td>\n",
       "      <td>0.200000</td>\n",
       "    </tr>\n",
       "    <tr>\n",
       "      <th>25%</th>\n",
       "      <td>72.172500</td>\n",
       "      <td>219.250000</td>\n",
       "      <td>5284.500000</td>\n",
       "      <td>0.275000</td>\n",
       "    </tr>\n",
       "    <tr>\n",
       "      <th>50%</th>\n",
       "      <td>89.442000</td>\n",
       "      <td>333.500000</td>\n",
       "      <td>7209.500000</td>\n",
       "      <td>0.370000</td>\n",
       "    </tr>\n",
       "    <tr>\n",
       "      <th>75%</th>\n",
       "      <td>171.575500</td>\n",
       "      <td>561.750000</td>\n",
       "      <td>8715.000000</td>\n",
       "      <td>0.480000</td>\n",
       "    </tr>\n",
       "    <tr>\n",
       "      <th>max</th>\n",
       "      <td>403.000000</td>\n",
       "      <td>948.000000</td>\n",
       "      <td>9393.000000</td>\n",
       "      <td>0.600000</td>\n",
       "    </tr>\n",
       "  </tbody>\n",
       "</table>\n",
       "</div>"
      ],
      "text/plain": [
       "       population         gdp  surface area       hdi\n",
       "count    4.000000    4.000000      4.000000  4.000000\n",
       "mean   154.306000  447.500000   6790.000000  0.385000\n",
       "std    167.795641  351.448906   2723.305222  0.173877\n",
       "min     35.340000  175.000000   3348.000000  0.200000\n",
       "25%     72.172500  219.250000   5284.500000  0.275000\n",
       "50%     89.442000  333.500000   7209.500000  0.370000\n",
       "75%    171.575500  561.750000   8715.000000  0.480000\n",
       "max    403.000000  948.000000   9393.000000  0.600000"
      ]
     },
     "execution_count": 36,
     "metadata": {},
     "output_type": "execute_result"
    }
   ],
   "source": [
    "df.describe()"
   ]
  },
  {
   "cell_type": "code",
   "execution_count": 40,
   "id": "acc837f5-797a-4467-ad18-018fa92e1068",
   "metadata": {},
   "outputs": [
    {
     "data": {
      "text/plain": [
       "population      float64\n",
       "gdp               int64\n",
       "surface area      int64\n",
       "hdi             float64\n",
       "continent        object\n",
       "dtype: object"
      ]
     },
     "execution_count": 40,
     "metadata": {},
     "output_type": "execute_result"
    }
   ],
   "source": [
    "df.dtypes"
   ]
  },
  {
   "cell_type": "code",
   "execution_count": 42,
   "id": "8a91e5fa-1b2f-4f9e-97a5-90f553a04775",
   "metadata": {},
   "outputs": [
    {
     "data": {
      "text/plain": [
       "float64    2\n",
       "int64      2\n",
       "object     1\n",
       "Name: count, dtype: int64"
      ]
     },
     "execution_count": 42,
     "metadata": {},
     "output_type": "execute_result"
    }
   ],
   "source": [
    "df.dtypes.value_counts()"
   ]
  },
  {
   "cell_type": "code",
   "execution_count": 44,
   "id": "2bde7c21-6464-44a2-a357-95d788e9a9ae",
   "metadata": {},
   "outputs": [],
   "source": [
    "  # indexing, selecttion and slicing"
   ]
  },
  {
   "cell_type": "code",
   "execution_count": 46,
   "id": "c29bac80-4d76-4992-abf0-2ba0b455c35a",
   "metadata": {},
   "outputs": [
    {
     "data": {
      "text/plain": [
       "population        35.34\n",
       "gdp                 175\n",
       "surface area       9393\n",
       "hdi                 0.3\n",
       "continent       America\n",
       "Name: canada, dtype: object"
      ]
     },
     "execution_count": 46,
     "metadata": {},
     "output_type": "execute_result"
    }
   ],
   "source": [
    " df.loc['canada']"
   ]
  },
  {
   "cell_type": "code",
   "execution_count": 48,
   "id": "989b4aee-0ebb-4f9c-a81e-1a02b10fa5e9",
   "metadata": {},
   "outputs": [
    {
     "data": {
      "text/plain": [
       "population      403.0\n",
       "gdp               433\n",
       "surface area     8489\n",
       "hdi              0.44\n",
       "continent        asia\n",
       "Name: italy, dtype: object"
      ]
     },
     "execution_count": 48,
     "metadata": {},
     "output_type": "execute_result"
    }
   ],
   "source": [
    "df.iloc[-1]"
   ]
  },
  {
   "cell_type": "code",
   "execution_count": 50,
   "id": "5ce0a1d4-73d0-423b-a225-c00148e8bdad",
   "metadata": {},
   "outputs": [
    {
     "data": {
      "text/plain": [
       "canada      35.340\n",
       "france      84.450\n",
       "germany     94.434\n",
       "italy      403.000\n",
       "Name: population, dtype: float64"
      ]
     },
     "execution_count": 50,
     "metadata": {},
     "output_type": "execute_result"
    }
   ],
   "source": [
    "df['population']"
   ]
  },
  {
   "cell_type": "code",
   "execution_count": 54,
   "id": "c032a1f2-32b1-464a-9541-683b1e7ba992",
   "metadata": {},
   "outputs": [
    {
     "data": {
      "text/html": [
       "<div>\n",
       "<style scoped>\n",
       "    .dataframe tbody tr th:only-of-type {\n",
       "        vertical-align: middle;\n",
       "    }\n",
       "\n",
       "    .dataframe tbody tr th {\n",
       "        vertical-align: top;\n",
       "    }\n",
       "\n",
       "    .dataframe thead th {\n",
       "        text-align: right;\n",
       "    }\n",
       "</style>\n",
       "<table border=\"1\" class=\"dataframe\">\n",
       "  <thead>\n",
       "    <tr style=\"text-align: right;\">\n",
       "      <th></th>\n",
       "      <th>population</th>\n",
       "    </tr>\n",
       "  </thead>\n",
       "  <tbody>\n",
       "    <tr>\n",
       "      <th>canada</th>\n",
       "      <td>35.340</td>\n",
       "    </tr>\n",
       "    <tr>\n",
       "      <th>france</th>\n",
       "      <td>84.450</td>\n",
       "    </tr>\n",
       "    <tr>\n",
       "      <th>germany</th>\n",
       "      <td>94.434</td>\n",
       "    </tr>\n",
       "    <tr>\n",
       "      <th>italy</th>\n",
       "      <td>403.000</td>\n",
       "    </tr>\n",
       "  </tbody>\n",
       "</table>\n",
       "</div>"
      ],
      "text/plain": [
       "         population\n",
       "canada       35.340\n",
       "france       84.450\n",
       "germany      94.434\n",
       "italy       403.000"
      ]
     },
     "execution_count": 54,
     "metadata": {},
     "output_type": "execute_result"
    }
   ],
   "source": [
    "df['population'].to_frame()"
   ]
  },
  {
   "cell_type": "code",
   "execution_count": 56,
   "id": "00fbaf23-f370-4495-bcf0-ee9aeac2d663",
   "metadata": {},
   "outputs": [
    {
     "data": {
      "text/html": [
       "<div>\n",
       "<style scoped>\n",
       "    .dataframe tbody tr th:only-of-type {\n",
       "        vertical-align: middle;\n",
       "    }\n",
       "\n",
       "    .dataframe tbody tr th {\n",
       "        vertical-align: top;\n",
       "    }\n",
       "\n",
       "    .dataframe thead th {\n",
       "        text-align: right;\n",
       "    }\n",
       "</style>\n",
       "<table border=\"1\" class=\"dataframe\">\n",
       "  <thead>\n",
       "    <tr style=\"text-align: right;\">\n",
       "      <th></th>\n",
       "      <th>population</th>\n",
       "      <th>gdp</th>\n",
       "      <th>surface area</th>\n",
       "      <th>hdi</th>\n",
       "      <th>continent</th>\n",
       "    </tr>\n",
       "  </thead>\n",
       "  <tbody>\n",
       "    <tr>\n",
       "      <th>france</th>\n",
       "      <td>84.450</td>\n",
       "      <td>234</td>\n",
       "      <td>5930</td>\n",
       "      <td>0.20</td>\n",
       "      <td>europe</td>\n",
       "    </tr>\n",
       "    <tr>\n",
       "      <th>germany</th>\n",
       "      <td>94.434</td>\n",
       "      <td>948</td>\n",
       "      <td>3348</td>\n",
       "      <td>0.60</td>\n",
       "      <td>europe</td>\n",
       "    </tr>\n",
       "    <tr>\n",
       "      <th>italy</th>\n",
       "      <td>403.000</td>\n",
       "      <td>433</td>\n",
       "      <td>8489</td>\n",
       "      <td>0.44</td>\n",
       "      <td>asia</td>\n",
       "    </tr>\n",
       "  </tbody>\n",
       "</table>\n",
       "</div>"
      ],
      "text/plain": [
       "         population  gdp  surface area   hdi continent\n",
       "france       84.450  234          5930  0.20    europe\n",
       "germany      94.434  948          3348  0.60    europe\n",
       "italy       403.000  433          8489  0.44      asia"
      ]
     },
     "execution_count": 56,
     "metadata": {},
     "output_type": "execute_result"
    }
   ],
   "source": [
    "df.loc[ 'france': 'italy']"
   ]
  },
  {
   "cell_type": "code",
   "execution_count": 70,
   "id": "c89f2aff-deb1-4a4c-b77c-e7f7e6c0b7a1",
   "metadata": {},
   "outputs": [
    {
     "data": {
      "text/plain": [
       "france      84.450\n",
       "germany     94.434\n",
       "italy      403.000\n",
       "Name: population, dtype: float64"
      ]
     },
     "execution_count": 70,
     "metadata": {},
     "output_type": "execute_result"
    }
   ],
   "source": [
    "df.loc[ 'france' : 'italy' , 'population']"
   ]
  },
  {
   "cell_type": "code",
   "execution_count": 72,
   "id": "f345bd12-dc91-4c5c-9f93-ff8f994028af",
   "metadata": {},
   "outputs": [
    {
     "data": {
      "text/html": [
       "<div>\n",
       "<style scoped>\n",
       "    .dataframe tbody tr th:only-of-type {\n",
       "        vertical-align: middle;\n",
       "    }\n",
       "\n",
       "    .dataframe tbody tr th {\n",
       "        vertical-align: top;\n",
       "    }\n",
       "\n",
       "    .dataframe thead th {\n",
       "        text-align: right;\n",
       "    }\n",
       "</style>\n",
       "<table border=\"1\" class=\"dataframe\">\n",
       "  <thead>\n",
       "    <tr style=\"text-align: right;\">\n",
       "      <th></th>\n",
       "      <th>population</th>\n",
       "      <th>gdp</th>\n",
       "    </tr>\n",
       "  </thead>\n",
       "  <tbody>\n",
       "    <tr>\n",
       "      <th>france</th>\n",
       "      <td>84.450</td>\n",
       "      <td>234</td>\n",
       "    </tr>\n",
       "    <tr>\n",
       "      <th>germany</th>\n",
       "      <td>94.434</td>\n",
       "      <td>948</td>\n",
       "    </tr>\n",
       "    <tr>\n",
       "      <th>italy</th>\n",
       "      <td>403.000</td>\n",
       "      <td>433</td>\n",
       "    </tr>\n",
       "  </tbody>\n",
       "</table>\n",
       "</div>"
      ],
      "text/plain": [
       "         population  gdp\n",
       "france       84.450  234\n",
       "germany      94.434  948\n",
       "italy       403.000  433"
      ]
     },
     "execution_count": 72,
     "metadata": {},
     "output_type": "execute_result"
    }
   ],
   "source": [
    "df.loc[ 'france' : 'italy' , ['population' , 'gdp']]"
   ]
  },
  {
   "cell_type": "code",
   "execution_count": 74,
   "id": "46ae2363-a1cf-454d-a843-8714e4456d58",
   "metadata": {},
   "outputs": [
    {
     "data": {
      "text/plain": [
       "population      403.0\n",
       "gdp               433\n",
       "surface area     8489\n",
       "hdi              0.44\n",
       "continent        asia\n",
       "Name: italy, dtype: object"
      ]
     },
     "execution_count": 74,
     "metadata": {},
     "output_type": "execute_result"
    }
   ],
   "source": [
    " df.iloc[-1]"
   ]
  },
  {
   "cell_type": "code",
   "execution_count": 80,
   "id": "1f01ca31-a014-4e0d-b4e1-7768756eab49",
   "metadata": {},
   "outputs": [
    {
     "data": {
      "text/html": [
       "<div>\n",
       "<style scoped>\n",
       "    .dataframe tbody tr th:only-of-type {\n",
       "        vertical-align: middle;\n",
       "    }\n",
       "\n",
       "    .dataframe tbody tr th {\n",
       "        vertical-align: top;\n",
       "    }\n",
       "\n",
       "    .dataframe thead th {\n",
       "        text-align: right;\n",
       "    }\n",
       "</style>\n",
       "<table border=\"1\" class=\"dataframe\">\n",
       "  <thead>\n",
       "    <tr style=\"text-align: right;\">\n",
       "      <th></th>\n",
       "      <th>population</th>\n",
       "      <th>gdp</th>\n",
       "      <th>surface area</th>\n",
       "      <th>hdi</th>\n",
       "      <th>continent</th>\n",
       "    </tr>\n",
       "  </thead>\n",
       "  <tbody>\n",
       "    <tr>\n",
       "      <th>canada</th>\n",
       "      <td>35.34</td>\n",
       "      <td>175</td>\n",
       "      <td>9393</td>\n",
       "      <td>0.30</td>\n",
       "      <td>America</td>\n",
       "    </tr>\n",
       "    <tr>\n",
       "      <th>france</th>\n",
       "      <td>84.45</td>\n",
       "      <td>234</td>\n",
       "      <td>5930</td>\n",
       "      <td>0.20</td>\n",
       "      <td>europe</td>\n",
       "    </tr>\n",
       "    <tr>\n",
       "      <th>italy</th>\n",
       "      <td>403.00</td>\n",
       "      <td>433</td>\n",
       "      <td>8489</td>\n",
       "      <td>0.44</td>\n",
       "      <td>asia</td>\n",
       "    </tr>\n",
       "  </tbody>\n",
       "</table>\n",
       "</div>"
      ],
      "text/plain": [
       "        population  gdp  surface area   hdi continent\n",
       "canada       35.34  175          9393  0.30   America\n",
       "france       84.45  234          5930  0.20    europe\n",
       "italy       403.00  433          8489  0.44      asia"
      ]
     },
     "execution_count": 80,
     "metadata": {},
     "output_type": "execute_result"
    }
   ],
   "source": [
    "df.iloc[[0,1,-1]]"
   ]
  },
  {
   "cell_type": "code",
   "execution_count": 86,
   "id": "9ae93326-2de9-4eb1-a4d5-b582ce630046",
   "metadata": {},
   "outputs": [
    {
     "data": {
      "text/plain": [
       "france     5930\n",
       "germany    3348\n",
       "Name: surface area, dtype: int64"
      ]
     },
     "execution_count": 86,
     "metadata": {},
     "output_type": "execute_result"
    }
   ],
   "source": [
    "df.iloc[1:3 ,2] #returning surface area, here 1:3 , 3 is excluded "
   ]
  },
  {
   "cell_type": "code",
   "execution_count": 88,
   "id": "6d3a21da-1e36-49fe-8711-d59be8d53f8c",
   "metadata": {},
   "outputs": [
    {
     "data": {
      "text/plain": [
       "france     234\n",
       "germany    948\n",
       "Name: gdp, dtype: int64"
      ]
     },
     "execution_count": 88,
     "metadata": {},
     "output_type": "execute_result"
    }
   ],
   "source": [
    "df.iloc[1:3 ,1] "
   ]
  },
  {
   "cell_type": "code",
   "execution_count": 90,
   "id": "3fd5df66-1504-4b05-8dd7-afe470297e72",
   "metadata": {},
   "outputs": [
    {
     "data": {
      "text/plain": [
       "canada     False\n",
       "france      True\n",
       "germany     True\n",
       "italy       True\n",
       "Name: population, dtype: bool"
      ]
     },
     "execution_count": 90,
     "metadata": {},
     "output_type": "execute_result"
    }
   ],
   "source": [
    "df['population'] >70"
   ]
  },
  {
   "cell_type": "code",
   "execution_count": null,
   "id": "a1b4d2c9-9f19-425a-8bdf-5a2b549ac985",
   "metadata": {},
   "outputs": [],
   "source": []
  },
  {
   "cell_type": "code",
   "execution_count": 104,
   "id": "9fa7d436-26d5-4ba9-9a7d-78ff571ab096",
   "metadata": {},
   "outputs": [
    {
     "data": {
      "text/plain": [
       "canada      35.340\n",
       "france      84.450\n",
       "germany     94.434\n",
       "italy      403.000\n",
       "Name: population, dtype: float64"
      ]
     },
     "execution_count": 104,
     "metadata": {},
     "output_type": "execute_result"
    }
   ],
   "source": [
    "df['population']"
   ]
  },
  {
   "cell_type": "code",
   "execution_count": 98,
   "id": "287a4f5f-7fe7-483c-a39d-214b7e0cac98",
   "metadata": {},
   "outputs": [
    {
     "data": {
      "text/html": [
       "<div>\n",
       "<style scoped>\n",
       "    .dataframe tbody tr th:only-of-type {\n",
       "        vertical-align: middle;\n",
       "    }\n",
       "\n",
       "    .dataframe tbody tr th {\n",
       "        vertical-align: top;\n",
       "    }\n",
       "\n",
       "    .dataframe thead th {\n",
       "        text-align: right;\n",
       "    }\n",
       "</style>\n",
       "<table border=\"1\" class=\"dataframe\">\n",
       "  <thead>\n",
       "    <tr style=\"text-align: right;\">\n",
       "      <th></th>\n",
       "      <th>population</th>\n",
       "      <th>gdp</th>\n",
       "      <th>surface area</th>\n",
       "      <th>hdi</th>\n",
       "      <th>continent</th>\n",
       "    </tr>\n",
       "  </thead>\n",
       "  <tbody>\n",
       "    <tr>\n",
       "      <th>france</th>\n",
       "      <td>84.450</td>\n",
       "      <td>234</td>\n",
       "      <td>5930</td>\n",
       "      <td>0.20</td>\n",
       "      <td>europe</td>\n",
       "    </tr>\n",
       "    <tr>\n",
       "      <th>germany</th>\n",
       "      <td>94.434</td>\n",
       "      <td>948</td>\n",
       "      <td>3348</td>\n",
       "      <td>0.60</td>\n",
       "      <td>europe</td>\n",
       "    </tr>\n",
       "    <tr>\n",
       "      <th>italy</th>\n",
       "      <td>403.000</td>\n",
       "      <td>433</td>\n",
       "      <td>8489</td>\n",
       "      <td>0.44</td>\n",
       "      <td>asia</td>\n",
       "    </tr>\n",
       "  </tbody>\n",
       "</table>\n",
       "</div>"
      ],
      "text/plain": [
       "         population  gdp  surface area   hdi continent\n",
       "france       84.450  234          5930  0.20    europe\n",
       "germany      94.434  948          3348  0.60    europe\n",
       "italy       403.000  433          8489  0.44      asia"
      ]
     },
     "execution_count": 98,
     "metadata": {},
     "output_type": "execute_result"
    }
   ],
   "source": [
    "  df.loc[df['population']>70]"
   ]
  },
  {
   "cell_type": "code",
   "execution_count": 102,
   "id": "f8169418-30de-4019-ac6c-ac47586a85dc",
   "metadata": {},
   "outputs": [
    {
     "data": {
      "text/plain": [
       "france      84.450\n",
       "germany     94.434\n",
       "italy      403.000\n",
       "Name: population, dtype: float64"
      ]
     },
     "execution_count": 102,
     "metadata": {},
     "output_type": "execute_result"
    }
   ],
   "source": [
    "  df.loc[df['population']>70 ,'population']"
   ]
  },
  {
   "cell_type": "code",
   "execution_count": 106,
   "id": "a5e01230-3179-468f-8f5d-41ca8c0b1808",
   "metadata": {},
   "outputs": [],
   "source": [
    "# drop the stuff"
   ]
  },
  {
   "cell_type": "code",
   "execution_count": 108,
   "id": "3c60986b-5eb1-4ed4-a10f-64f94a16ebd7",
   "metadata": {},
   "outputs": [
    {
     "data": {
      "text/html": [
       "<div>\n",
       "<style scoped>\n",
       "    .dataframe tbody tr th:only-of-type {\n",
       "        vertical-align: middle;\n",
       "    }\n",
       "\n",
       "    .dataframe tbody tr th {\n",
       "        vertical-align: top;\n",
       "    }\n",
       "\n",
       "    .dataframe thead th {\n",
       "        text-align: right;\n",
       "    }\n",
       "</style>\n",
       "<table border=\"1\" class=\"dataframe\">\n",
       "  <thead>\n",
       "    <tr style=\"text-align: right;\">\n",
       "      <th></th>\n",
       "      <th>population</th>\n",
       "      <th>gdp</th>\n",
       "      <th>surface area</th>\n",
       "      <th>hdi</th>\n",
       "      <th>continent</th>\n",
       "    </tr>\n",
       "  </thead>\n",
       "  <tbody>\n",
       "    <tr>\n",
       "      <th>france</th>\n",
       "      <td>84.450</td>\n",
       "      <td>234</td>\n",
       "      <td>5930</td>\n",
       "      <td>0.20</td>\n",
       "      <td>europe</td>\n",
       "    </tr>\n",
       "    <tr>\n",
       "      <th>germany</th>\n",
       "      <td>94.434</td>\n",
       "      <td>948</td>\n",
       "      <td>3348</td>\n",
       "      <td>0.60</td>\n",
       "      <td>europe</td>\n",
       "    </tr>\n",
       "    <tr>\n",
       "      <th>italy</th>\n",
       "      <td>403.000</td>\n",
       "      <td>433</td>\n",
       "      <td>8489</td>\n",
       "      <td>0.44</td>\n",
       "      <td>asia</td>\n",
       "    </tr>\n",
       "  </tbody>\n",
       "</table>\n",
       "</div>"
      ],
      "text/plain": [
       "         population  gdp  surface area   hdi continent\n",
       "france       84.450  234          5930  0.20    europe\n",
       "germany      94.434  948          3348  0.60    europe\n",
       "italy       403.000  433          8489  0.44      asia"
      ]
     },
     "execution_count": 108,
     "metadata": {},
     "output_type": "execute_result"
    }
   ],
   "source": [
    "df.drop('canada')"
   ]
  },
  {
   "cell_type": "code",
   "execution_count": 112,
   "id": "e7117131-92cc-4a9b-bcc2-90db66bc6e27",
   "metadata": {},
   "outputs": [
    {
     "data": {
      "text/html": [
       "<div>\n",
       "<style scoped>\n",
       "    .dataframe tbody tr th:only-of-type {\n",
       "        vertical-align: middle;\n",
       "    }\n",
       "\n",
       "    .dataframe tbody tr th {\n",
       "        vertical-align: top;\n",
       "    }\n",
       "\n",
       "    .dataframe thead th {\n",
       "        text-align: right;\n",
       "    }\n",
       "</style>\n",
       "<table border=\"1\" class=\"dataframe\">\n",
       "  <thead>\n",
       "    <tr style=\"text-align: right;\">\n",
       "      <th></th>\n",
       "      <th>gdp</th>\n",
       "      <th>surface area</th>\n",
       "      <th>continent</th>\n",
       "    </tr>\n",
       "  </thead>\n",
       "  <tbody>\n",
       "    <tr>\n",
       "      <th>canada</th>\n",
       "      <td>175</td>\n",
       "      <td>9393</td>\n",
       "      <td>America</td>\n",
       "    </tr>\n",
       "    <tr>\n",
       "      <th>france</th>\n",
       "      <td>234</td>\n",
       "      <td>5930</td>\n",
       "      <td>europe</td>\n",
       "    </tr>\n",
       "    <tr>\n",
       "      <th>germany</th>\n",
       "      <td>948</td>\n",
       "      <td>3348</td>\n",
       "      <td>europe</td>\n",
       "    </tr>\n",
       "    <tr>\n",
       "      <th>italy</th>\n",
       "      <td>433</td>\n",
       "      <td>8489</td>\n",
       "      <td>asia</td>\n",
       "    </tr>\n",
       "  </tbody>\n",
       "</table>\n",
       "</div>"
      ],
      "text/plain": [
       "         gdp  surface area continent\n",
       "canada   175          9393   America\n",
       "france   234          5930    europe\n",
       "germany  948          3348    europe\n",
       "italy    433          8489      asia"
      ]
     },
     "execution_count": 112,
     "metadata": {},
     "output_type": "execute_result"
    }
   ],
   "source": [
    "df.drop(columns = ['population', 'hdi'])"
   ]
  },
  {
   "cell_type": "code",
   "execution_count": 116,
   "id": "76710a85-be98-41f3-9fdf-c2027a061c32",
   "metadata": {
    "scrolled": true
   },
   "outputs": [
    {
     "data": {
      "text/html": [
       "<div>\n",
       "<style scoped>\n",
       "    .dataframe tbody tr th:only-of-type {\n",
       "        vertical-align: middle;\n",
       "    }\n",
       "\n",
       "    .dataframe tbody tr th {\n",
       "        vertical-align: top;\n",
       "    }\n",
       "\n",
       "    .dataframe thead th {\n",
       "        text-align: right;\n",
       "    }\n",
       "</style>\n",
       "<table border=\"1\" class=\"dataframe\">\n",
       "  <thead>\n",
       "    <tr style=\"text-align: right;\">\n",
       "      <th></th>\n",
       "      <th>population</th>\n",
       "      <th>gdp</th>\n",
       "      <th>surface area</th>\n",
       "      <th>hdi</th>\n",
       "      <th>continent</th>\n",
       "    </tr>\n",
       "  </thead>\n",
       "  <tbody>\n",
       "    <tr>\n",
       "      <th>france</th>\n",
       "      <td>84.450</td>\n",
       "      <td>234</td>\n",
       "      <td>5930</td>\n",
       "      <td>0.2</td>\n",
       "      <td>europe</td>\n",
       "    </tr>\n",
       "    <tr>\n",
       "      <th>germany</th>\n",
       "      <td>94.434</td>\n",
       "      <td>948</td>\n",
       "      <td>3348</td>\n",
       "      <td>0.6</td>\n",
       "      <td>europe</td>\n",
       "    </tr>\n",
       "  </tbody>\n",
       "</table>\n",
       "</div>"
      ],
      "text/plain": [
       "         population  gdp  surface area  hdi continent\n",
       "france       84.450  234          5930  0.2    europe\n",
       "germany      94.434  948          3348  0.6    europe"
      ]
     },
     "execution_count": 116,
     "metadata": {},
     "output_type": "execute_result"
    }
   ],
   "source": [
    "df.drop(['italy' , 'canada'] , axis=0)"
   ]
  },
  {
   "cell_type": "code",
   "execution_count": 27,
   "id": "c8ee991e-abbb-4844-abe9-c611bc0147de",
   "metadata": {},
   "outputs": [
    {
     "data": {
      "text/html": [
       "<div>\n",
       "<style scoped>\n",
       "    .dataframe tbody tr th:only-of-type {\n",
       "        vertical-align: middle;\n",
       "    }\n",
       "\n",
       "    .dataframe tbody tr th {\n",
       "        vertical-align: top;\n",
       "    }\n",
       "\n",
       "    .dataframe thead th {\n",
       "        text-align: right;\n",
       "    }\n",
       "</style>\n",
       "<table border=\"1\" class=\"dataframe\">\n",
       "  <thead>\n",
       "    <tr style=\"text-align: right;\">\n",
       "      <th></th>\n",
       "      <th>population</th>\n",
       "      <th>gdp</th>\n",
       "      <th>surface area</th>\n",
       "      <th>hdi</th>\n",
       "      <th>continent</th>\n",
       "    </tr>\n",
       "  </thead>\n",
       "  <tbody>\n",
       "    <tr>\n",
       "      <th>0</th>\n",
       "      <td>35.340</td>\n",
       "      <td>175</td>\n",
       "      <td>9393</td>\n",
       "      <td>0.30</td>\n",
       "      <td>America</td>\n",
       "    </tr>\n",
       "    <tr>\n",
       "      <th>1</th>\n",
       "      <td>84.450</td>\n",
       "      <td>234</td>\n",
       "      <td>5930</td>\n",
       "      <td>0.20</td>\n",
       "      <td>europe</td>\n",
       "    </tr>\n",
       "    <tr>\n",
       "      <th>2</th>\n",
       "      <td>94.434</td>\n",
       "      <td>948</td>\n",
       "      <td>3348</td>\n",
       "      <td>0.60</td>\n",
       "      <td>europe</td>\n",
       "    </tr>\n",
       "    <tr>\n",
       "      <th>3</th>\n",
       "      <td>403.000</td>\n",
       "      <td>433</td>\n",
       "      <td>8489</td>\n",
       "      <td>0.44</td>\n",
       "      <td>asia</td>\n",
       "    </tr>\n",
       "  </tbody>\n",
       "</table>\n",
       "</div>"
      ],
      "text/plain": [
       "   population  gdp  surface area   hdi continent\n",
       "0      35.340  175          9393  0.30   America\n",
       "1      84.450  234          5930  0.20    europe\n",
       "2      94.434  948          3348  0.60    europe\n",
       "3     403.000  433          8489  0.44      asia"
      ]
     },
     "execution_count": 27,
     "metadata": {},
     "output_type": "execute_result"
    }
   ],
   "source": [
    "df # in the result you see still the complete table if completely drop df=df.drop['italy']"
   ]
  },
  {
   "cell_type": "code",
   "execution_count": 21,
   "id": "7a0ef87c-9eca-4996-89b3-83fa094b5ae3",
   "metadata": {
    "scrolled": true
   },
   "outputs": [
    {
     "ename": "KeyError",
     "evalue": "\"['italy', 'canada'] not found in axis\"",
     "output_type": "error",
     "traceback": [
      "\u001b[1;31m---------------------------------------------------------------------------\u001b[0m",
      "\u001b[1;31mKeyError\u001b[0m                                  Traceback (most recent call last)",
      "Cell \u001b[1;32mIn[21], line 1\u001b[0m\n\u001b[1;32m----> 1\u001b[0m df\u001b[38;5;241m.\u001b[39mdrop([\u001b[38;5;124m'\u001b[39m\u001b[38;5;124mitaly\u001b[39m\u001b[38;5;124m'\u001b[39m , \u001b[38;5;124m'\u001b[39m\u001b[38;5;124mcanada\u001b[39m\u001b[38;5;124m'\u001b[39m] , axis\u001b[38;5;241m=\u001b[39m\u001b[38;5;241m0\u001b[39m)\n",
      "File \u001b[1;32m~\\anaconda3\\Lib\\site-packages\\pandas\\core\\frame.py:5581\u001b[0m, in \u001b[0;36mDataFrame.drop\u001b[1;34m(self, labels, axis, index, columns, level, inplace, errors)\u001b[0m\n\u001b[0;32m   5433\u001b[0m \u001b[38;5;28;01mdef\u001b[39;00m \u001b[38;5;21mdrop\u001b[39m(\n\u001b[0;32m   5434\u001b[0m     \u001b[38;5;28mself\u001b[39m,\n\u001b[0;32m   5435\u001b[0m     labels: IndexLabel \u001b[38;5;241m|\u001b[39m \u001b[38;5;28;01mNone\u001b[39;00m \u001b[38;5;241m=\u001b[39m \u001b[38;5;28;01mNone\u001b[39;00m,\n\u001b[1;32m   (...)\u001b[0m\n\u001b[0;32m   5442\u001b[0m     errors: IgnoreRaise \u001b[38;5;241m=\u001b[39m \u001b[38;5;124m\"\u001b[39m\u001b[38;5;124mraise\u001b[39m\u001b[38;5;124m\"\u001b[39m,\n\u001b[0;32m   5443\u001b[0m ) \u001b[38;5;241m-\u001b[39m\u001b[38;5;241m>\u001b[39m DataFrame \u001b[38;5;241m|\u001b[39m \u001b[38;5;28;01mNone\u001b[39;00m:\n\u001b[0;32m   5444\u001b[0m \u001b[38;5;250m    \u001b[39m\u001b[38;5;124;03m\"\"\"\u001b[39;00m\n\u001b[0;32m   5445\u001b[0m \u001b[38;5;124;03m    Drop specified labels from rows or columns.\u001b[39;00m\n\u001b[0;32m   5446\u001b[0m \n\u001b[1;32m   (...)\u001b[0m\n\u001b[0;32m   5579\u001b[0m \u001b[38;5;124;03m            weight  1.0     0.8\u001b[39;00m\n\u001b[0;32m   5580\u001b[0m \u001b[38;5;124;03m    \"\"\"\u001b[39;00m\n\u001b[1;32m-> 5581\u001b[0m     \u001b[38;5;28;01mreturn\u001b[39;00m \u001b[38;5;28msuper\u001b[39m()\u001b[38;5;241m.\u001b[39mdrop(\n\u001b[0;32m   5582\u001b[0m         labels\u001b[38;5;241m=\u001b[39mlabels,\n\u001b[0;32m   5583\u001b[0m         axis\u001b[38;5;241m=\u001b[39maxis,\n\u001b[0;32m   5584\u001b[0m         index\u001b[38;5;241m=\u001b[39mindex,\n\u001b[0;32m   5585\u001b[0m         columns\u001b[38;5;241m=\u001b[39mcolumns,\n\u001b[0;32m   5586\u001b[0m         level\u001b[38;5;241m=\u001b[39mlevel,\n\u001b[0;32m   5587\u001b[0m         inplace\u001b[38;5;241m=\u001b[39minplace,\n\u001b[0;32m   5588\u001b[0m         errors\u001b[38;5;241m=\u001b[39merrors,\n\u001b[0;32m   5589\u001b[0m     )\n",
      "File \u001b[1;32m~\\anaconda3\\Lib\\site-packages\\pandas\\core\\generic.py:4788\u001b[0m, in \u001b[0;36mNDFrame.drop\u001b[1;34m(self, labels, axis, index, columns, level, inplace, errors)\u001b[0m\n\u001b[0;32m   4786\u001b[0m \u001b[38;5;28;01mfor\u001b[39;00m axis, labels \u001b[38;5;129;01min\u001b[39;00m axes\u001b[38;5;241m.\u001b[39mitems():\n\u001b[0;32m   4787\u001b[0m     \u001b[38;5;28;01mif\u001b[39;00m labels \u001b[38;5;129;01mis\u001b[39;00m \u001b[38;5;129;01mnot\u001b[39;00m \u001b[38;5;28;01mNone\u001b[39;00m:\n\u001b[1;32m-> 4788\u001b[0m         obj \u001b[38;5;241m=\u001b[39m obj\u001b[38;5;241m.\u001b[39m_drop_axis(labels, axis, level\u001b[38;5;241m=\u001b[39mlevel, errors\u001b[38;5;241m=\u001b[39merrors)\n\u001b[0;32m   4790\u001b[0m \u001b[38;5;28;01mif\u001b[39;00m inplace:\n\u001b[0;32m   4791\u001b[0m     \u001b[38;5;28mself\u001b[39m\u001b[38;5;241m.\u001b[39m_update_inplace(obj)\n",
      "File \u001b[1;32m~\\anaconda3\\Lib\\site-packages\\pandas\\core\\generic.py:4830\u001b[0m, in \u001b[0;36mNDFrame._drop_axis\u001b[1;34m(self, labels, axis, level, errors, only_slice)\u001b[0m\n\u001b[0;32m   4828\u001b[0m         new_axis \u001b[38;5;241m=\u001b[39m axis\u001b[38;5;241m.\u001b[39mdrop(labels, level\u001b[38;5;241m=\u001b[39mlevel, errors\u001b[38;5;241m=\u001b[39merrors)\n\u001b[0;32m   4829\u001b[0m     \u001b[38;5;28;01melse\u001b[39;00m:\n\u001b[1;32m-> 4830\u001b[0m         new_axis \u001b[38;5;241m=\u001b[39m axis\u001b[38;5;241m.\u001b[39mdrop(labels, errors\u001b[38;5;241m=\u001b[39merrors)\n\u001b[0;32m   4831\u001b[0m     indexer \u001b[38;5;241m=\u001b[39m axis\u001b[38;5;241m.\u001b[39mget_indexer(new_axis)\n\u001b[0;32m   4833\u001b[0m \u001b[38;5;66;03m# Case for non-unique axis\u001b[39;00m\n\u001b[0;32m   4834\u001b[0m \u001b[38;5;28;01melse\u001b[39;00m:\n",
      "File \u001b[1;32m~\\anaconda3\\Lib\\site-packages\\pandas\\core\\indexes\\base.py:7070\u001b[0m, in \u001b[0;36mIndex.drop\u001b[1;34m(self, labels, errors)\u001b[0m\n\u001b[0;32m   7068\u001b[0m \u001b[38;5;28;01mif\u001b[39;00m mask\u001b[38;5;241m.\u001b[39many():\n\u001b[0;32m   7069\u001b[0m     \u001b[38;5;28;01mif\u001b[39;00m errors \u001b[38;5;241m!=\u001b[39m \u001b[38;5;124m\"\u001b[39m\u001b[38;5;124mignore\u001b[39m\u001b[38;5;124m\"\u001b[39m:\n\u001b[1;32m-> 7070\u001b[0m         \u001b[38;5;28;01mraise\u001b[39;00m \u001b[38;5;167;01mKeyError\u001b[39;00m(\u001b[38;5;124mf\u001b[39m\u001b[38;5;124m\"\u001b[39m\u001b[38;5;132;01m{\u001b[39;00mlabels[mask]\u001b[38;5;241m.\u001b[39mtolist()\u001b[38;5;132;01m}\u001b[39;00m\u001b[38;5;124m not found in axis\u001b[39m\u001b[38;5;124m\"\u001b[39m)\n\u001b[0;32m   7071\u001b[0m     indexer \u001b[38;5;241m=\u001b[39m indexer[\u001b[38;5;241m~\u001b[39mmask]\n\u001b[0;32m   7072\u001b[0m \u001b[38;5;28;01mreturn\u001b[39;00m \u001b[38;5;28mself\u001b[39m\u001b[38;5;241m.\u001b[39mdelete(indexer)\n",
      "\u001b[1;31mKeyError\u001b[0m: \"['italy', 'canada'] not found in axis\""
     ]
    }
   ],
   "source": [
    "df.drop(['italy' , 'canada'] , axis=0)"
   ]
  },
  {
   "cell_type": "code",
   "execution_count": 142,
   "id": "427af47f-8be9-47ca-9f13-f057a6059b12",
   "metadata": {},
   "outputs": [
    {
     "data": {
      "text/plain": [
       "gdp    1000.0\n",
       "hdi       0.2\n",
       "dtype: float64"
      ]
     },
     "execution_count": 142,
     "metadata": {},
     "output_type": "execute_result"
    }
   ],
   "source": [
    "crisis = pd.Series([1000, 0.2] , index =['gdp', 'hdi'])\n",
    "crisis"
   ]
  },
  {
   "cell_type": "code",
   "execution_count": 130,
   "id": "b67fa1d3-4885-44e9-a063-f0fa5e21cb9c",
   "metadata": {},
   "outputs": [
    {
     "data": {
      "text/html": [
       "<div>\n",
       "<style scoped>\n",
       "    .dataframe tbody tr th:only-of-type {\n",
       "        vertical-align: middle;\n",
       "    }\n",
       "\n",
       "    .dataframe tbody tr th {\n",
       "        vertical-align: top;\n",
       "    }\n",
       "\n",
       "    .dataframe thead th {\n",
       "        text-align: right;\n",
       "    }\n",
       "</style>\n",
       "<table border=\"1\" class=\"dataframe\">\n",
       "  <thead>\n",
       "    <tr style=\"text-align: right;\">\n",
       "      <th></th>\n",
       "      <th>gdp</th>\n",
       "      <th>hdi</th>\n",
       "    </tr>\n",
       "  </thead>\n",
       "  <tbody>\n",
       "    <tr>\n",
       "      <th>canada</th>\n",
       "      <td>175</td>\n",
       "      <td>0.30</td>\n",
       "    </tr>\n",
       "    <tr>\n",
       "      <th>france</th>\n",
       "      <td>234</td>\n",
       "      <td>0.20</td>\n",
       "    </tr>\n",
       "    <tr>\n",
       "      <th>germany</th>\n",
       "      <td>948</td>\n",
       "      <td>0.60</td>\n",
       "    </tr>\n",
       "    <tr>\n",
       "      <th>italy</th>\n",
       "      <td>433</td>\n",
       "      <td>0.44</td>\n",
       "    </tr>\n",
       "  </tbody>\n",
       "</table>\n",
       "</div>"
      ],
      "text/plain": [
       "         gdp   hdi\n",
       "canada   175  0.30\n",
       "france   234  0.20\n",
       "germany  948  0.60\n",
       "italy    433  0.44"
      ]
     },
     "execution_count": 130,
     "metadata": {},
     "output_type": "execute_result"
    }
   ],
   "source": [
    "df[['gdp', 'hdi' ]]"
   ]
  },
  {
   "cell_type": "code",
   "execution_count": 144,
   "id": "5864d61f-9bfe-43df-9b63-4075872e5ecf",
   "metadata": {},
   "outputs": [
    {
     "data": {
      "text/html": [
       "<div>\n",
       "<style scoped>\n",
       "    .dataframe tbody tr th:only-of-type {\n",
       "        vertical-align: middle;\n",
       "    }\n",
       "\n",
       "    .dataframe tbody tr th {\n",
       "        vertical-align: top;\n",
       "    }\n",
       "\n",
       "    .dataframe thead th {\n",
       "        text-align: right;\n",
       "    }\n",
       "</style>\n",
       "<table border=\"1\" class=\"dataframe\">\n",
       "  <thead>\n",
       "    <tr style=\"text-align: right;\">\n",
       "      <th></th>\n",
       "      <th>gdp</th>\n",
       "      <th>hdi</th>\n",
       "    </tr>\n",
       "  </thead>\n",
       "  <tbody>\n",
       "    <tr>\n",
       "      <th>canada</th>\n",
       "      <td>1175.0</td>\n",
       "      <td>0.50</td>\n",
       "    </tr>\n",
       "    <tr>\n",
       "      <th>france</th>\n",
       "      <td>1234.0</td>\n",
       "      <td>0.40</td>\n",
       "    </tr>\n",
       "    <tr>\n",
       "      <th>germany</th>\n",
       "      <td>1948.0</td>\n",
       "      <td>0.80</td>\n",
       "    </tr>\n",
       "    <tr>\n",
       "      <th>italy</th>\n",
       "      <td>1433.0</td>\n",
       "      <td>0.64</td>\n",
       "    </tr>\n",
       "  </tbody>\n",
       "</table>\n",
       "</div>"
      ],
      "text/plain": [
       "            gdp   hdi\n",
       "canada   1175.0  0.50\n",
       "france   1234.0  0.40\n",
       "germany  1948.0  0.80\n",
       "italy    1433.0  0.64"
      ]
     },
     "execution_count": 144,
     "metadata": {},
     "output_type": "execute_result"
    }
   ],
   "source": [
    "df[['gdp' ,'hdi' ]] +crisis # similar words so addition possible"
   ]
  },
  {
   "cell_type": "code",
   "execution_count": 14,
   "id": "237480e5-17ca-4a46-a409-5fe9fec735ef",
   "metadata": {},
   "outputs": [],
   "source": [
    "#adding another column in the dataframe"
   ]
  },
  {
   "cell_type": "code",
   "execution_count": 16,
   "id": "1586563a-8f1a-4dc2-bbc1-02aaa174464d",
   "metadata": {},
   "outputs": [],
   "source": [
    "lan = pd.Series(\n",
    "    [ 'french', 'german','italian' ] ,       \n",
    "    index = ['france' , 'germany','italy'] ,  #we can add only if index matches\n",
    "    name ='language' )"
   ]
  },
  {
   "cell_type": "code",
   "execution_count": 35,
   "id": "bc40dd54-ad02-488a-8540-5a03866738ee",
   "metadata": {},
   "outputs": [
    {
     "data": {
      "text/plain": [
       "france      french\n",
       "germany     german\n",
       "italy      italian\n",
       "Name: language, dtype: object"
      ]
     },
     "execution_count": 35,
     "metadata": {},
     "output_type": "execute_result"
    }
   ],
   "source": [
    "lan"
   ]
  },
  {
   "cell_type": "code",
   "execution_count": 37,
   "id": "60d521a5-2bf9-441c-8522-6a617e1b74bb",
   "metadata": {},
   "outputs": [],
   "source": [
    "df['language'] = lan"
   ]
  },
  {
   "cell_type": "code",
   "execution_count": 40,
   "id": "9df97edf-5f73-4578-9754-df5691e189ab",
   "metadata": {},
   "outputs": [
    {
     "data": {
      "text/html": [
       "<div>\n",
       "<style scoped>\n",
       "    .dataframe tbody tr th:only-of-type {\n",
       "        vertical-align: middle;\n",
       "    }\n",
       "\n",
       "    .dataframe tbody tr th {\n",
       "        vertical-align: top;\n",
       "    }\n",
       "\n",
       "    .dataframe thead th {\n",
       "        text-align: right;\n",
       "    }\n",
       "</style>\n",
       "<table border=\"1\" class=\"dataframe\">\n",
       "  <thead>\n",
       "    <tr style=\"text-align: right;\">\n",
       "      <th></th>\n",
       "      <th>population</th>\n",
       "      <th>gdp</th>\n",
       "      <th>surface area</th>\n",
       "      <th>hdi</th>\n",
       "      <th>continent</th>\n",
       "      <th>language</th>\n",
       "    </tr>\n",
       "  </thead>\n",
       "  <tbody>\n",
       "    <tr>\n",
       "      <th>canada</th>\n",
       "      <td>35.340</td>\n",
       "      <td>175</td>\n",
       "      <td>9393</td>\n",
       "      <td>0.30</td>\n",
       "      <td>America</td>\n",
       "      <td>NaN</td>\n",
       "    </tr>\n",
       "    <tr>\n",
       "      <th>france</th>\n",
       "      <td>84.450</td>\n",
       "      <td>234</td>\n",
       "      <td>5930</td>\n",
       "      <td>0.20</td>\n",
       "      <td>europe</td>\n",
       "      <td>french</td>\n",
       "    </tr>\n",
       "    <tr>\n",
       "      <th>germany</th>\n",
       "      <td>94.434</td>\n",
       "      <td>948</td>\n",
       "      <td>3348</td>\n",
       "      <td>0.60</td>\n",
       "      <td>europe</td>\n",
       "      <td>german</td>\n",
       "    </tr>\n",
       "    <tr>\n",
       "      <th>italy</th>\n",
       "      <td>403.000</td>\n",
       "      <td>433</td>\n",
       "      <td>8489</td>\n",
       "      <td>0.44</td>\n",
       "      <td>asia</td>\n",
       "      <td>italian</td>\n",
       "    </tr>\n",
       "  </tbody>\n",
       "</table>\n",
       "</div>"
      ],
      "text/plain": [
       "         population  gdp  surface area   hdi continent language\n",
       "canada       35.340  175          9393  0.30   America      NaN\n",
       "france       84.450  234          5930  0.20    europe   french\n",
       "germany      94.434  948          3348  0.60    europe   german\n",
       "italy       403.000  433          8489  0.44      asia  italian"
      ]
     },
     "execution_count": 40,
     "metadata": {},
     "output_type": "execute_result"
    }
   ],
   "source": [
    "df"
   ]
  },
  {
   "cell_type": "code",
   "execution_count": 44,
   "id": "9d6929ed-6b06-4174-94cd-e8c02d9190e5",
   "metadata": {},
   "outputs": [
    {
     "data": {
      "text/html": [
       "<div>\n",
       "<style scoped>\n",
       "    .dataframe tbody tr th:only-of-type {\n",
       "        vertical-align: middle;\n",
       "    }\n",
       "\n",
       "    .dataframe tbody tr th {\n",
       "        vertical-align: top;\n",
       "    }\n",
       "\n",
       "    .dataframe thead th {\n",
       "        text-align: right;\n",
       "    }\n",
       "</style>\n",
       "<table border=\"1\" class=\"dataframe\">\n",
       "  <thead>\n",
       "    <tr style=\"text-align: right;\">\n",
       "      <th></th>\n",
       "      <th>population</th>\n",
       "      <th>gdp</th>\n",
       "      <th>surface area</th>\n",
       "      <th>hdi</th>\n",
       "      <th>continent</th>\n",
       "      <th>language</th>\n",
       "    </tr>\n",
       "  </thead>\n",
       "  <tbody>\n",
       "    <tr>\n",
       "      <th>canada</th>\n",
       "      <td>35.340</td>\n",
       "      <td>175</td>\n",
       "      <td>9393</td>\n",
       "      <td>0.30</td>\n",
       "      <td>America</td>\n",
       "      <td>english</td>\n",
       "    </tr>\n",
       "    <tr>\n",
       "      <th>france</th>\n",
       "      <td>84.450</td>\n",
       "      <td>234</td>\n",
       "      <td>5930</td>\n",
       "      <td>0.20</td>\n",
       "      <td>europe</td>\n",
       "      <td>english</td>\n",
       "    </tr>\n",
       "    <tr>\n",
       "      <th>germany</th>\n",
       "      <td>94.434</td>\n",
       "      <td>948</td>\n",
       "      <td>3348</td>\n",
       "      <td>0.60</td>\n",
       "      <td>europe</td>\n",
       "      <td>english</td>\n",
       "    </tr>\n",
       "    <tr>\n",
       "      <th>italy</th>\n",
       "      <td>403.000</td>\n",
       "      <td>433</td>\n",
       "      <td>8489</td>\n",
       "      <td>0.44</td>\n",
       "      <td>asia</td>\n",
       "      <td>english</td>\n",
       "    </tr>\n",
       "  </tbody>\n",
       "</table>\n",
       "</div>"
      ],
      "text/plain": [
       "         population  gdp  surface area   hdi continent language\n",
       "canada       35.340  175          9393  0.30   America  english\n",
       "france       84.450  234          5930  0.20    europe  english\n",
       "germany      94.434  948          3348  0.60    europe  english\n",
       "italy       403.000  433          8489  0.44      asia  english"
      ]
     },
     "execution_count": 44,
     "metadata": {},
     "output_type": "execute_result"
    }
   ],
   "source": [
    "df['language']= 'english'\n",
    "df"
   ]
  },
  {
   "cell_type": "code",
   "execution_count": 48,
   "id": "7283da36-127a-4187-96bb-8c8d1034ecc0",
   "metadata": {},
   "outputs": [
    {
     "data": {
      "text/html": [
       "<div>\n",
       "<style scoped>\n",
       "    .dataframe tbody tr th:only-of-type {\n",
       "        vertical-align: middle;\n",
       "    }\n",
       "\n",
       "    .dataframe tbody tr th {\n",
       "        vertical-align: top;\n",
       "    }\n",
       "\n",
       "    .dataframe thead th {\n",
       "        text-align: right;\n",
       "    }\n",
       "</style>\n",
       "<table border=\"1\" class=\"dataframe\">\n",
       "  <thead>\n",
       "    <tr style=\"text-align: right;\">\n",
       "      <th></th>\n",
       "      <th>population</th>\n",
       "      <th>gdp</th>\n",
       "      <th>surface area</th>\n",
       "      <th>human develop</th>\n",
       "      <th>continent</th>\n",
       "      <th>language</th>\n",
       "    </tr>\n",
       "  </thead>\n",
       "  <tbody>\n",
       "    <tr>\n",
       "      <th>cad</th>\n",
       "      <td>35.340</td>\n",
       "      <td>175</td>\n",
       "      <td>9393</td>\n",
       "      <td>0.30</td>\n",
       "      <td>America</td>\n",
       "      <td>english</td>\n",
       "    </tr>\n",
       "    <tr>\n",
       "      <th>france</th>\n",
       "      <td>84.450</td>\n",
       "      <td>234</td>\n",
       "      <td>5930</td>\n",
       "      <td>0.20</td>\n",
       "      <td>europe</td>\n",
       "      <td>english</td>\n",
       "    </tr>\n",
       "    <tr>\n",
       "      <th>ger</th>\n",
       "      <td>94.434</td>\n",
       "      <td>948</td>\n",
       "      <td>3348</td>\n",
       "      <td>0.60</td>\n",
       "      <td>europe</td>\n",
       "      <td>english</td>\n",
       "    </tr>\n",
       "    <tr>\n",
       "      <th>italy</th>\n",
       "      <td>403.000</td>\n",
       "      <td>433</td>\n",
       "      <td>8489</td>\n",
       "      <td>0.44</td>\n",
       "      <td>asia</td>\n",
       "      <td>english</td>\n",
       "    </tr>\n",
       "  </tbody>\n",
       "</table>\n",
       "</div>"
      ],
      "text/plain": [
       "        population  gdp  surface area  human develop continent language\n",
       "cad         35.340  175          9393           0.30   America  english\n",
       "france      84.450  234          5930           0.20    europe  english\n",
       "ger         94.434  948          3348           0.60    europe  english\n",
       "italy      403.000  433          8489           0.44      asia  english"
      ]
     },
     "execution_count": 48,
     "metadata": {},
     "output_type": "execute_result"
    }
   ],
   "source": [
    "df.rename(\n",
    "        columns ={\n",
    "    'hdi' : 'human develop' ,\n",
    "     'asdf' : 'ramds' # no change in the code because of this line\n",
    "} ,\n",
    "\n",
    "index ={\n",
    "    'canada' : 'cad' ,\n",
    "    'germany' :'ger' }\n",
    ")"
   ]
  },
  {
   "cell_type": "code",
   "execution_count": 52,
   "id": "d7928cea-b926-4aba-a8b4-044844443834",
   "metadata": {},
   "outputs": [
    {
     "data": {
      "text/html": [
       "<div>\n",
       "<style scoped>\n",
       "    .dataframe tbody tr th:only-of-type {\n",
       "        vertical-align: middle;\n",
       "    }\n",
       "\n",
       "    .dataframe tbody tr th {\n",
       "        vertical-align: top;\n",
       "    }\n",
       "\n",
       "    .dataframe thead th {\n",
       "        text-align: right;\n",
       "    }\n",
       "</style>\n",
       "<table border=\"1\" class=\"dataframe\">\n",
       "  <thead>\n",
       "    <tr style=\"text-align: right;\">\n",
       "      <th></th>\n",
       "      <th>population</th>\n",
       "      <th>gdp</th>\n",
       "      <th>surface area</th>\n",
       "      <th>hdi</th>\n",
       "      <th>continent</th>\n",
       "      <th>language</th>\n",
       "    </tr>\n",
       "  </thead>\n",
       "  <tbody>\n",
       "    <tr>\n",
       "      <th>canada</th>\n",
       "      <td>35.340</td>\n",
       "      <td>175</td>\n",
       "      <td>9393</td>\n",
       "      <td>0.30</td>\n",
       "      <td>America</td>\n",
       "      <td>english</td>\n",
       "    </tr>\n",
       "    <tr>\n",
       "      <th>france</th>\n",
       "      <td>84.450</td>\n",
       "      <td>234</td>\n",
       "      <td>5930</td>\n",
       "      <td>0.20</td>\n",
       "      <td>europe</td>\n",
       "      <td>english</td>\n",
       "    </tr>\n",
       "    <tr>\n",
       "      <th>germany</th>\n",
       "      <td>94.434</td>\n",
       "      <td>948</td>\n",
       "      <td>3348</td>\n",
       "      <td>0.60</td>\n",
       "      <td>europe</td>\n",
       "      <td>english</td>\n",
       "    </tr>\n",
       "    <tr>\n",
       "      <th>italy</th>\n",
       "      <td>403.000</td>\n",
       "      <td>433</td>\n",
       "      <td>8489</td>\n",
       "      <td>0.44</td>\n",
       "      <td>asia</td>\n",
       "      <td>english</td>\n",
       "    </tr>\n",
       "  </tbody>\n",
       "</table>\n",
       "</div>"
      ],
      "text/plain": [
       "         population  gdp  surface area   hdi continent language\n",
       "canada       35.340  175          9393  0.30   America  english\n",
       "france       84.450  234          5930  0.20    europe  english\n",
       "germany      94.434  948          3348  0.60    europe  english\n",
       "italy       403.000  433          8489  0.44      asia  english"
      ]
     },
     "execution_count": 52,
     "metadata": {},
     "output_type": "execute_result"
    }
   ],
   "source": [
    "df # even after renaming there is no change in original dataframe"
   ]
  },
  {
   "cell_type": "code",
   "execution_count": 54,
   "id": "51812d9e-8945-4b81-a9ba-c3b539d9d22c",
   "metadata": {},
   "outputs": [
    {
     "data": {
      "text/html": [
       "<div>\n",
       "<style scoped>\n",
       "    .dataframe tbody tr th:only-of-type {\n",
       "        vertical-align: middle;\n",
       "    }\n",
       "\n",
       "    .dataframe tbody tr th {\n",
       "        vertical-align: top;\n",
       "    }\n",
       "\n",
       "    .dataframe thead th {\n",
       "        text-align: right;\n",
       "    }\n",
       "</style>\n",
       "<table border=\"1\" class=\"dataframe\">\n",
       "  <thead>\n",
       "    <tr style=\"text-align: right;\">\n",
       "      <th></th>\n",
       "      <th>population</th>\n",
       "      <th>gdp</th>\n",
       "      <th>surface area</th>\n",
       "      <th>hdi</th>\n",
       "      <th>continent</th>\n",
       "      <th>language</th>\n",
       "    </tr>\n",
       "  </thead>\n",
       "  <tbody>\n",
       "    <tr>\n",
       "      <th>CANADA</th>\n",
       "      <td>35.340</td>\n",
       "      <td>175</td>\n",
       "      <td>9393</td>\n",
       "      <td>0.30</td>\n",
       "      <td>America</td>\n",
       "      <td>english</td>\n",
       "    </tr>\n",
       "    <tr>\n",
       "      <th>FRANCE</th>\n",
       "      <td>84.450</td>\n",
       "      <td>234</td>\n",
       "      <td>5930</td>\n",
       "      <td>0.20</td>\n",
       "      <td>europe</td>\n",
       "      <td>english</td>\n",
       "    </tr>\n",
       "    <tr>\n",
       "      <th>GERMANY</th>\n",
       "      <td>94.434</td>\n",
       "      <td>948</td>\n",
       "      <td>3348</td>\n",
       "      <td>0.60</td>\n",
       "      <td>europe</td>\n",
       "      <td>english</td>\n",
       "    </tr>\n",
       "    <tr>\n",
       "      <th>ITALY</th>\n",
       "      <td>403.000</td>\n",
       "      <td>433</td>\n",
       "      <td>8489</td>\n",
       "      <td>0.44</td>\n",
       "      <td>asia</td>\n",
       "      <td>english</td>\n",
       "    </tr>\n",
       "  </tbody>\n",
       "</table>\n",
       "</div>"
      ],
      "text/plain": [
       "         population  gdp  surface area   hdi continent language\n",
       "CANADA       35.340  175          9393  0.30   America  english\n",
       "FRANCE       84.450  234          5930  0.20    europe  english\n",
       "GERMANY      94.434  948          3348  0.60    europe  english\n",
       "ITALY       403.000  433          8489  0.44      asia  english"
      ]
     },
     "execution_count": 54,
     "metadata": {},
     "output_type": "execute_result"
    }
   ],
   "source": [
    "df.rename(index=str.upper)"
   ]
  },
  {
   "cell_type": "code",
   "execution_count": 60,
   "id": "a179f243-3ffe-4be9-9c72-c39a2a18c251",
   "metadata": {},
   "outputs": [
    {
     "data": {
      "text/html": [
       "<div>\n",
       "<style scoped>\n",
       "    .dataframe tbody tr th:only-of-type {\n",
       "        vertical-align: middle;\n",
       "    }\n",
       "\n",
       "    .dataframe tbody tr th {\n",
       "        vertical-align: top;\n",
       "    }\n",
       "\n",
       "    .dataframe thead th {\n",
       "        text-align: right;\n",
       "    }\n",
       "</style>\n",
       "<table border=\"1\" class=\"dataframe\">\n",
       "  <thead>\n",
       "    <tr style=\"text-align: right;\">\n",
       "      <th></th>\n",
       "      <th>population</th>\n",
       "      <th>gdp</th>\n",
       "      <th>surface area</th>\n",
       "      <th>hdi</th>\n",
       "      <th>continent</th>\n",
       "      <th>language</th>\n",
       "    </tr>\n",
       "  </thead>\n",
       "  <tbody>\n",
       "    <tr>\n",
       "      <th>canada</th>\n",
       "      <td>35.340</td>\n",
       "      <td>175</td>\n",
       "      <td>9393</td>\n",
       "      <td>0.30</td>\n",
       "      <td>America</td>\n",
       "      <td>english</td>\n",
       "    </tr>\n",
       "    <tr>\n",
       "      <th>france</th>\n",
       "      <td>84.450</td>\n",
       "      <td>234</td>\n",
       "      <td>5930</td>\n",
       "      <td>0.20</td>\n",
       "      <td>europe</td>\n",
       "      <td>english</td>\n",
       "    </tr>\n",
       "    <tr>\n",
       "      <th>germany</th>\n",
       "      <td>94.434</td>\n",
       "      <td>948</td>\n",
       "      <td>3348</td>\n",
       "      <td>0.60</td>\n",
       "      <td>europe</td>\n",
       "      <td>english</td>\n",
       "    </tr>\n",
       "    <tr>\n",
       "      <th>italy</th>\n",
       "      <td>403.000</td>\n",
       "      <td>433</td>\n",
       "      <td>8489</td>\n",
       "      <td>0.44</td>\n",
       "      <td>asia</td>\n",
       "      <td>english</td>\n",
       "    </tr>\n",
       "  </tbody>\n",
       "</table>\n",
       "</div>"
      ],
      "text/plain": [
       "         population  gdp  surface area   hdi continent language\n",
       "canada       35.340  175          9393  0.30   America  english\n",
       "france       84.450  234          5930  0.20    europe  english\n",
       "germany      94.434  948          3348  0.60    europe  english\n",
       "italy       403.000  433          8489  0.44      asia  english"
      ]
     },
     "execution_count": 60,
     "metadata": {},
     "output_type": "execute_result"
    }
   ],
   "source": [
    "df.rename( index= lambda  x:x.lower()) # juset another type of renaming"
   ]
  },
  {
   "cell_type": "code",
   "execution_count": 62,
   "id": "88e27ad1-5a7d-4441-8d32-1f7ab9439c68",
   "metadata": {},
   "outputs": [],
   "source": [
    "# adding values "
   ]
  },
  {
   "cell_type": "code",
   "execution_count": 14,
   "id": "f70ff524-d074-4b2d-8228-72ac27f65796",
   "metadata": {},
   "outputs": [],
   "source": [
    "df = pd.concat([df, pd.Series({'population': 3, 'gdp': 234}, name='china').to_frame().T])\n"
   ]
  },
  {
   "cell_type": "code",
   "execution_count": 18,
   "id": "f1cba035-d960-45b0-aaaa-1d9bcc24a101",
   "metadata": {},
   "outputs": [
    {
     "data": {
      "text/html": [
       "<div>\n",
       "<style scoped>\n",
       "    .dataframe tbody tr th:only-of-type {\n",
       "        vertical-align: middle;\n",
       "    }\n",
       "\n",
       "    .dataframe tbody tr th {\n",
       "        vertical-align: top;\n",
       "    }\n",
       "\n",
       "    .dataframe thead th {\n",
       "        text-align: right;\n",
       "    }\n",
       "</style>\n",
       "<table border=\"1\" class=\"dataframe\">\n",
       "  <thead>\n",
       "    <tr style=\"text-align: right;\">\n",
       "      <th></th>\n",
       "      <th>population</th>\n",
       "      <th>gdp</th>\n",
       "      <th>surface area</th>\n",
       "      <th>hdi</th>\n",
       "      <th>continent</th>\n",
       "    </tr>\n",
       "  </thead>\n",
       "  <tbody>\n",
       "    <tr>\n",
       "      <th>0</th>\n",
       "      <td>35.340</td>\n",
       "      <td>175</td>\n",
       "      <td>9393.0</td>\n",
       "      <td>0.30</td>\n",
       "      <td>America</td>\n",
       "    </tr>\n",
       "    <tr>\n",
       "      <th>1</th>\n",
       "      <td>84.450</td>\n",
       "      <td>234</td>\n",
       "      <td>5930.0</td>\n",
       "      <td>0.20</td>\n",
       "      <td>europe</td>\n",
       "    </tr>\n",
       "    <tr>\n",
       "      <th>2</th>\n",
       "      <td>94.434</td>\n",
       "      <td>948</td>\n",
       "      <td>3348.0</td>\n",
       "      <td>0.60</td>\n",
       "      <td>europe</td>\n",
       "    </tr>\n",
       "    <tr>\n",
       "      <th>3</th>\n",
       "      <td>403.000</td>\n",
       "      <td>433</td>\n",
       "      <td>8489.0</td>\n",
       "      <td>0.44</td>\n",
       "      <td>asia</td>\n",
       "    </tr>\n",
       "    <tr>\n",
       "      <th>china</th>\n",
       "      <td>3.000</td>\n",
       "      <td>234</td>\n",
       "      <td>NaN</td>\n",
       "      <td>NaN</td>\n",
       "      <td>NaN</td>\n",
       "    </tr>\n",
       "    <tr>\n",
       "      <th>0</th>\n",
       "      <td>3.000</td>\n",
       "      <td>234</td>\n",
       "      <td>NaN</td>\n",
       "      <td>NaN</td>\n",
       "      <td>NaN</td>\n",
       "    </tr>\n",
       "  </tbody>\n",
       "</table>\n",
       "</div>"
      ],
      "text/plain": [
       "       population  gdp  surface area   hdi continent\n",
       "0          35.340  175        9393.0  0.30   America\n",
       "1          84.450  234        5930.0  0.20    europe\n",
       "2          94.434  948        3348.0  0.60    europe\n",
       "3         403.000  433        8489.0  0.44      asia\n",
       "china       3.000  234           NaN   NaN       NaN\n",
       "0           3.000  234           NaN   NaN       NaN"
      ]
     },
     "execution_count": 18,
     "metadata": {},
     "output_type": "execute_result"
    }
   ],
   "source": [
    "df"
   ]
  },
  {
   "cell_type": "code",
   "execution_count": 90,
   "id": "8bffbe3f-44ba-40f1-bf33-f7556f3b6c29",
   "metadata": {},
   "outputs": [],
   "source": [
    "df.loc['china'] = pd.Series({'population' :12323, 'gdp' : 100 } )\n"
   ]
  },
  {
   "cell_type": "code",
   "execution_count": 88,
   "id": "3aeaff25-4443-4eaa-ae23-b1dacf8d5ee8",
   "metadata": {},
   "outputs": [
    {
     "data": {
      "text/html": [
       "<div>\n",
       "<style scoped>\n",
       "    .dataframe tbody tr th:only-of-type {\n",
       "        vertical-align: middle;\n",
       "    }\n",
       "\n",
       "    .dataframe tbody tr th {\n",
       "        vertical-align: top;\n",
       "    }\n",
       "\n",
       "    .dataframe thead th {\n",
       "        text-align: right;\n",
       "    }\n",
       "</style>\n",
       "<table border=\"1\" class=\"dataframe\">\n",
       "  <thead>\n",
       "    <tr style=\"text-align: right;\">\n",
       "      <th></th>\n",
       "      <th>population</th>\n",
       "      <th>gdp</th>\n",
       "      <th>surface area</th>\n",
       "      <th>hdi</th>\n",
       "      <th>continent</th>\n",
       "      <th>language</th>\n",
       "    </tr>\n",
       "  </thead>\n",
       "  <tbody>\n",
       "    <tr>\n",
       "      <th>canada</th>\n",
       "      <td>35.340</td>\n",
       "      <td>175</td>\n",
       "      <td>9393.0</td>\n",
       "      <td>0.30</td>\n",
       "      <td>America</td>\n",
       "      <td>english</td>\n",
       "    </tr>\n",
       "    <tr>\n",
       "      <th>france</th>\n",
       "      <td>84.450</td>\n",
       "      <td>234</td>\n",
       "      <td>5930.0</td>\n",
       "      <td>0.20</td>\n",
       "      <td>europe</td>\n",
       "      <td>english</td>\n",
       "    </tr>\n",
       "    <tr>\n",
       "      <th>germany</th>\n",
       "      <td>94.434</td>\n",
       "      <td>948</td>\n",
       "      <td>3348.0</td>\n",
       "      <td>0.60</td>\n",
       "      <td>europe</td>\n",
       "      <td>english</td>\n",
       "    </tr>\n",
       "    <tr>\n",
       "      <th>italy</th>\n",
       "      <td>403.000</td>\n",
       "      <td>433</td>\n",
       "      <td>8489.0</td>\n",
       "      <td>0.44</td>\n",
       "      <td>asia</td>\n",
       "      <td>english</td>\n",
       "    </tr>\n",
       "    <tr>\n",
       "      <th>china</th>\n",
       "      <td>12323.000</td>\n",
       "      <td>100</td>\n",
       "      <td>NaN</td>\n",
       "      <td>NaN</td>\n",
       "      <td>NaN</td>\n",
       "      <td>NaN</td>\n",
       "    </tr>\n",
       "  </tbody>\n",
       "</table>\n",
       "</div>"
      ],
      "text/plain": [
       "         population  gdp  surface area   hdi continent language\n",
       "canada       35.340  175        9393.0  0.30   America  english\n",
       "france       84.450  234        5930.0  0.20    europe  english\n",
       "germany      94.434  948        3348.0  0.60    europe  english\n",
       "italy       403.000  433        8489.0  0.44      asia  english\n",
       "china     12323.000  100           NaN   NaN       NaN      NaN"
      ]
     },
     "execution_count": 88,
     "metadata": {},
     "output_type": "execute_result"
    }
   ],
   "source": [
    "df"
   ]
  },
  {
   "cell_type": "code",
   "execution_count": 92,
   "id": "43f336db-adf8-4995-a9ee-3a1b4f90fa53",
   "metadata": {},
   "outputs": [],
   "source": [
    "df.drop('china' , inplace=True)"
   ]
  },
  {
   "cell_type": "code",
   "execution_count": 94,
   "id": "3ec2689d-3673-4f7c-b90e-b9ff609feaeb",
   "metadata": {},
   "outputs": [
    {
     "data": {
      "text/html": [
       "<div>\n",
       "<style scoped>\n",
       "    .dataframe tbody tr th:only-of-type {\n",
       "        vertical-align: middle;\n",
       "    }\n",
       "\n",
       "    .dataframe tbody tr th {\n",
       "        vertical-align: top;\n",
       "    }\n",
       "\n",
       "    .dataframe thead th {\n",
       "        text-align: right;\n",
       "    }\n",
       "</style>\n",
       "<table border=\"1\" class=\"dataframe\">\n",
       "  <thead>\n",
       "    <tr style=\"text-align: right;\">\n",
       "      <th></th>\n",
       "      <th>population</th>\n",
       "      <th>gdp</th>\n",
       "      <th>surface area</th>\n",
       "      <th>hdi</th>\n",
       "      <th>continent</th>\n",
       "      <th>language</th>\n",
       "    </tr>\n",
       "  </thead>\n",
       "  <tbody>\n",
       "    <tr>\n",
       "      <th>canada</th>\n",
       "      <td>35.340</td>\n",
       "      <td>175</td>\n",
       "      <td>9393.0</td>\n",
       "      <td>0.30</td>\n",
       "      <td>America</td>\n",
       "      <td>english</td>\n",
       "    </tr>\n",
       "    <tr>\n",
       "      <th>france</th>\n",
       "      <td>84.450</td>\n",
       "      <td>234</td>\n",
       "      <td>5930.0</td>\n",
       "      <td>0.20</td>\n",
       "      <td>europe</td>\n",
       "      <td>english</td>\n",
       "    </tr>\n",
       "    <tr>\n",
       "      <th>germany</th>\n",
       "      <td>94.434</td>\n",
       "      <td>948</td>\n",
       "      <td>3348.0</td>\n",
       "      <td>0.60</td>\n",
       "      <td>europe</td>\n",
       "      <td>english</td>\n",
       "    </tr>\n",
       "    <tr>\n",
       "      <th>italy</th>\n",
       "      <td>403.000</td>\n",
       "      <td>433</td>\n",
       "      <td>8489.0</td>\n",
       "      <td>0.44</td>\n",
       "      <td>asia</td>\n",
       "      <td>english</td>\n",
       "    </tr>\n",
       "  </tbody>\n",
       "</table>\n",
       "</div>"
      ],
      "text/plain": [
       "         population  gdp  surface area   hdi continent language\n",
       "canada       35.340  175        9393.0  0.30   America  english\n",
       "france       84.450  234        5930.0  0.20    europe  english\n",
       "germany      94.434  948        3348.0  0.60    europe  english\n",
       "italy       403.000  433        8489.0  0.44      asia  english"
      ]
     },
     "execution_count": 94,
     "metadata": {},
     "output_type": "execute_result"
    }
   ],
   "source": [
    "df"
   ]
  },
  {
   "cell_type": "code",
   "execution_count": 96,
   "id": "b097f7c9-7da2-49b8-94f0-45988ee95f34",
   "metadata": {},
   "outputs": [],
   "source": [
    "#creating columns from other columns"
   ]
  },
  {
   "cell_type": "code",
   "execution_count": 98,
   "id": "81af8bd2-5c88-4341-9443-405ced045160",
   "metadata": {},
   "outputs": [
    {
     "data": {
      "text/plain": [
       "canada      4.951896\n",
       "france      2.770870\n",
       "germany    10.038757\n",
       "italy       1.074442\n",
       "dtype: float64"
      ]
     },
     "execution_count": 98,
     "metadata": {},
     "output_type": "execute_result"
    }
   ],
   "source": [
    "df['gdp'] / df['population']"
   ]
  },
  {
   "cell_type": "code",
   "execution_count": 100,
   "id": "1632c864-506a-4fe6-8487-b8a3231ed9a9",
   "metadata": {},
   "outputs": [],
   "source": [
    "df['percapita'] =df['gdp'] / df['population']"
   ]
  },
  {
   "cell_type": "code",
   "execution_count": 102,
   "id": "449cddce-a5ed-4d6e-a918-490d61f9372f",
   "metadata": {},
   "outputs": [
    {
     "data": {
      "text/html": [
       "<div>\n",
       "<style scoped>\n",
       "    .dataframe tbody tr th:only-of-type {\n",
       "        vertical-align: middle;\n",
       "    }\n",
       "\n",
       "    .dataframe tbody tr th {\n",
       "        vertical-align: top;\n",
       "    }\n",
       "\n",
       "    .dataframe thead th {\n",
       "        text-align: right;\n",
       "    }\n",
       "</style>\n",
       "<table border=\"1\" class=\"dataframe\">\n",
       "  <thead>\n",
       "    <tr style=\"text-align: right;\">\n",
       "      <th></th>\n",
       "      <th>population</th>\n",
       "      <th>gdp</th>\n",
       "      <th>surface area</th>\n",
       "      <th>hdi</th>\n",
       "      <th>continent</th>\n",
       "      <th>language</th>\n",
       "      <th>percapita</th>\n",
       "    </tr>\n",
       "  </thead>\n",
       "  <tbody>\n",
       "    <tr>\n",
       "      <th>canada</th>\n",
       "      <td>35.340</td>\n",
       "      <td>175</td>\n",
       "      <td>9393.0</td>\n",
       "      <td>0.30</td>\n",
       "      <td>America</td>\n",
       "      <td>english</td>\n",
       "      <td>4.951896</td>\n",
       "    </tr>\n",
       "    <tr>\n",
       "      <th>france</th>\n",
       "      <td>84.450</td>\n",
       "      <td>234</td>\n",
       "      <td>5930.0</td>\n",
       "      <td>0.20</td>\n",
       "      <td>europe</td>\n",
       "      <td>english</td>\n",
       "      <td>2.770870</td>\n",
       "    </tr>\n",
       "    <tr>\n",
       "      <th>germany</th>\n",
       "      <td>94.434</td>\n",
       "      <td>948</td>\n",
       "      <td>3348.0</td>\n",
       "      <td>0.60</td>\n",
       "      <td>europe</td>\n",
       "      <td>english</td>\n",
       "      <td>10.038757</td>\n",
       "    </tr>\n",
       "    <tr>\n",
       "      <th>italy</th>\n",
       "      <td>403.000</td>\n",
       "      <td>433</td>\n",
       "      <td>8489.0</td>\n",
       "      <td>0.44</td>\n",
       "      <td>asia</td>\n",
       "      <td>english</td>\n",
       "      <td>1.074442</td>\n",
       "    </tr>\n",
       "  </tbody>\n",
       "</table>\n",
       "</div>"
      ],
      "text/plain": [
       "         population  gdp  surface area   hdi continent language  percapita\n",
       "canada       35.340  175        9393.0  0.30   America  english   4.951896\n",
       "france       84.450  234        5930.0  0.20    europe  english   2.770870\n",
       "germany      94.434  948        3348.0  0.60    europe  english  10.038757\n",
       "italy       403.000  433        8489.0  0.44      asia  english   1.074442"
      ]
     },
     "execution_count": 102,
     "metadata": {},
     "output_type": "execute_result"
    }
   ],
   "source": [
    "df"
   ]
  },
  {
   "cell_type": "code",
   "execution_count": 104,
   "id": "5cc46543-06ec-4139-ad60-2c0655ea9be3",
   "metadata": {},
   "outputs": [
    {
     "data": {
      "text/html": [
       "<div>\n",
       "<style scoped>\n",
       "    .dataframe tbody tr th:only-of-type {\n",
       "        vertical-align: middle;\n",
       "    }\n",
       "\n",
       "    .dataframe tbody tr th {\n",
       "        vertical-align: top;\n",
       "    }\n",
       "\n",
       "    .dataframe thead th {\n",
       "        text-align: right;\n",
       "    }\n",
       "</style>\n",
       "<table border=\"1\" class=\"dataframe\">\n",
       "  <thead>\n",
       "    <tr style=\"text-align: right;\">\n",
       "      <th></th>\n",
       "      <th>population</th>\n",
       "      <th>gdp</th>\n",
       "      <th>surface area</th>\n",
       "      <th>hdi</th>\n",
       "      <th>continent</th>\n",
       "      <th>language</th>\n",
       "      <th>percapita</th>\n",
       "    </tr>\n",
       "  </thead>\n",
       "  <tbody>\n",
       "    <tr>\n",
       "      <th>canada</th>\n",
       "      <td>35.340</td>\n",
       "      <td>175</td>\n",
       "      <td>9393.0</td>\n",
       "      <td>0.30</td>\n",
       "      <td>America</td>\n",
       "      <td>english</td>\n",
       "      <td>4.951896</td>\n",
       "    </tr>\n",
       "    <tr>\n",
       "      <th>france</th>\n",
       "      <td>84.450</td>\n",
       "      <td>234</td>\n",
       "      <td>5930.0</td>\n",
       "      <td>0.20</td>\n",
       "      <td>europe</td>\n",
       "      <td>english</td>\n",
       "      <td>2.770870</td>\n",
       "    </tr>\n",
       "    <tr>\n",
       "      <th>germany</th>\n",
       "      <td>94.434</td>\n",
       "      <td>948</td>\n",
       "      <td>3348.0</td>\n",
       "      <td>0.60</td>\n",
       "      <td>europe</td>\n",
       "      <td>english</td>\n",
       "      <td>10.038757</td>\n",
       "    </tr>\n",
       "    <tr>\n",
       "      <th>italy</th>\n",
       "      <td>403.000</td>\n",
       "      <td>433</td>\n",
       "      <td>8489.0</td>\n",
       "      <td>0.44</td>\n",
       "      <td>asia</td>\n",
       "      <td>english</td>\n",
       "      <td>1.074442</td>\n",
       "    </tr>\n",
       "  </tbody>\n",
       "</table>\n",
       "</div>"
      ],
      "text/plain": [
       "         population  gdp  surface area   hdi continent language  percapita\n",
       "canada       35.340  175        9393.0  0.30   America  english   4.951896\n",
       "france       84.450  234        5930.0  0.20    europe  english   2.770870\n",
       "germany      94.434  948        3348.0  0.60    europe  english  10.038757\n",
       "italy       403.000  433        8489.0  0.44      asia  english   1.074442"
      ]
     },
     "execution_count": 104,
     "metadata": {},
     "output_type": "execute_result"
    }
   ],
   "source": [
    "df.head()"
   ]
  },
  {
   "cell_type": "code",
   "execution_count": 108,
   "id": "1431c308-eea5-4789-8e53-d06b619ca0fe",
   "metadata": {},
   "outputs": [
    {
     "data": {
      "text/html": [
       "<div>\n",
       "<style scoped>\n",
       "    .dataframe tbody tr th:only-of-type {\n",
       "        vertical-align: middle;\n",
       "    }\n",
       "\n",
       "    .dataframe tbody tr th {\n",
       "        vertical-align: top;\n",
       "    }\n",
       "\n",
       "    .dataframe thead th {\n",
       "        text-align: right;\n",
       "    }\n",
       "</style>\n",
       "<table border=\"1\" class=\"dataframe\">\n",
       "  <thead>\n",
       "    <tr style=\"text-align: right;\">\n",
       "      <th></th>\n",
       "      <th>population</th>\n",
       "      <th>gdp</th>\n",
       "      <th>surface area</th>\n",
       "      <th>hdi</th>\n",
       "      <th>percapita</th>\n",
       "    </tr>\n",
       "  </thead>\n",
       "  <tbody>\n",
       "    <tr>\n",
       "      <th>count</th>\n",
       "      <td>4.000000</td>\n",
       "      <td>4.000000</td>\n",
       "      <td>4.000000</td>\n",
       "      <td>4.000000</td>\n",
       "      <td>4.000000</td>\n",
       "    </tr>\n",
       "    <tr>\n",
       "      <th>mean</th>\n",
       "      <td>154.306000</td>\n",
       "      <td>447.500000</td>\n",
       "      <td>6790.000000</td>\n",
       "      <td>0.385000</td>\n",
       "      <td>4.708991</td>\n",
       "    </tr>\n",
       "    <tr>\n",
       "      <th>std</th>\n",
       "      <td>167.795641</td>\n",
       "      <td>351.448906</td>\n",
       "      <td>2723.305222</td>\n",
       "      <td>0.173877</td>\n",
       "      <td>3.891515</td>\n",
       "    </tr>\n",
       "    <tr>\n",
       "      <th>min</th>\n",
       "      <td>35.340000</td>\n",
       "      <td>175.000000</td>\n",
       "      <td>3348.000000</td>\n",
       "      <td>0.200000</td>\n",
       "      <td>1.074442</td>\n",
       "    </tr>\n",
       "    <tr>\n",
       "      <th>25%</th>\n",
       "      <td>72.172500</td>\n",
       "      <td>219.250000</td>\n",
       "      <td>5284.500000</td>\n",
       "      <td>0.275000</td>\n",
       "      <td>2.346763</td>\n",
       "    </tr>\n",
       "    <tr>\n",
       "      <th>50%</th>\n",
       "      <td>89.442000</td>\n",
       "      <td>333.500000</td>\n",
       "      <td>7209.500000</td>\n",
       "      <td>0.370000</td>\n",
       "      <td>3.861383</td>\n",
       "    </tr>\n",
       "    <tr>\n",
       "      <th>75%</th>\n",
       "      <td>171.575500</td>\n",
       "      <td>561.750000</td>\n",
       "      <td>8715.000000</td>\n",
       "      <td>0.480000</td>\n",
       "      <td>6.223611</td>\n",
       "    </tr>\n",
       "    <tr>\n",
       "      <th>max</th>\n",
       "      <td>403.000000</td>\n",
       "      <td>948.000000</td>\n",
       "      <td>9393.000000</td>\n",
       "      <td>0.600000</td>\n",
       "      <td>10.038757</td>\n",
       "    </tr>\n",
       "  </tbody>\n",
       "</table>\n",
       "</div>"
      ],
      "text/plain": [
       "       population         gdp  surface area       hdi  percapita\n",
       "count    4.000000    4.000000      4.000000  4.000000   4.000000\n",
       "mean   154.306000  447.500000   6790.000000  0.385000   4.708991\n",
       "std    167.795641  351.448906   2723.305222  0.173877   3.891515\n",
       "min     35.340000  175.000000   3348.000000  0.200000   1.074442\n",
       "25%     72.172500  219.250000   5284.500000  0.275000   2.346763\n",
       "50%     89.442000  333.500000   7209.500000  0.370000   3.861383\n",
       "75%    171.575500  561.750000   8715.000000  0.480000   6.223611\n",
       "max    403.000000  948.000000   9393.000000  0.600000  10.038757"
      ]
     },
     "execution_count": 108,
     "metadata": {},
     "output_type": "execute_result"
    }
   ],
   "source": [
    "df.describe()"
   ]
  },
  {
   "cell_type": "code",
   "execution_count": 133,
   "id": "c59ba9fb-8b37-45f1-b720-49180cc9a0d7",
   "metadata": {},
   "outputs": [],
   "source": [
    "df=pd.read_csv('payment.csv')"
   ]
  },
  {
   "cell_type": "code",
   "execution_count": 135,
   "id": "d29be13c-0f71-4be5-8c29-6c6034de8e32",
   "metadata": {},
   "outputs": [
    {
     "data": {
      "text/html": [
       "<div>\n",
       "<style scoped>\n",
       "    .dataframe tbody tr th:only-of-type {\n",
       "        vertical-align: middle;\n",
       "    }\n",
       "\n",
       "    .dataframe tbody tr th {\n",
       "        vertical-align: top;\n",
       "    }\n",
       "\n",
       "    .dataframe thead th {\n",
       "        text-align: right;\n",
       "    }\n",
       "</style>\n",
       "<table border=\"1\" class=\"dataframe\">\n",
       "  <thead>\n",
       "    <tr style=\"text-align: right;\">\n",
       "      <th></th>\n",
       "      <th>customer_id</th>\n",
       "      <th>amount</th>\n",
       "      <th>mode</th>\n",
       "      <th>payment_date</th>\n",
       "    </tr>\n",
       "  </thead>\n",
       "  <tbody>\n",
       "    <tr>\n",
       "      <th>0</th>\n",
       "      <td>1</td>\n",
       "      <td>60</td>\n",
       "      <td>Cash</td>\n",
       "      <td>24-09-2020</td>\n",
       "    </tr>\n",
       "    <tr>\n",
       "      <th>1</th>\n",
       "      <td>2</td>\n",
       "      <td>30</td>\n",
       "      <td>Credit Card</td>\n",
       "      <td>27-04-2020</td>\n",
       "    </tr>\n",
       "    <tr>\n",
       "      <th>2</th>\n",
       "      <td>3</td>\n",
       "      <td>90</td>\n",
       "      <td>Credit Card</td>\n",
       "      <td>07-07-2020</td>\n",
       "    </tr>\n",
       "    <tr>\n",
       "      <th>3</th>\n",
       "      <td>4</td>\n",
       "      <td>50</td>\n",
       "      <td>Debit Crad</td>\n",
       "      <td>12-02-2020</td>\n",
       "    </tr>\n",
       "    <tr>\n",
       "      <th>4</th>\n",
       "      <td>5</td>\n",
       "      <td>40</td>\n",
       "      <td>Mobile Payment</td>\n",
       "      <td>20-11-2020</td>\n",
       "    </tr>\n",
       "  </tbody>\n",
       "</table>\n",
       "</div>"
      ],
      "text/plain": [
       "   customer_id  amount            mode payment_date\n",
       "0            1      60            Cash   24-09-2020\n",
       "1            2      30     Credit Card   27-04-2020\n",
       "2            3      90     Credit Card   07-07-2020\n",
       "3            4      50      Debit Crad   12-02-2020\n",
       "4            5      40  Mobile Payment   20-11-2020"
      ]
     },
     "execution_count": 135,
     "metadata": {},
     "output_type": "execute_result"
    }
   ],
   "source": [
    "df.head()"
   ]
  },
  {
   "cell_type": "code",
   "execution_count": 137,
   "id": "2eff4d3e-aa0f-4853-8a16-7b3f6ae26dca",
   "metadata": {},
   "outputs": [],
   "source": [
    "df.columns =['id', 'price', 'mode' ,'date']"
   ]
  },
  {
   "cell_type": "code",
   "execution_count": 141,
   "id": "fbc23c09-b5d5-43b2-a43a-dfb2fed608a0",
   "metadata": {},
   "outputs": [
    {
     "data": {
      "text/html": [
       "<div>\n",
       "<style scoped>\n",
       "    .dataframe tbody tr th:only-of-type {\n",
       "        vertical-align: middle;\n",
       "    }\n",
       "\n",
       "    .dataframe tbody tr th {\n",
       "        vertical-align: top;\n",
       "    }\n",
       "\n",
       "    .dataframe thead th {\n",
       "        text-align: right;\n",
       "    }\n",
       "</style>\n",
       "<table border=\"1\" class=\"dataframe\">\n",
       "  <thead>\n",
       "    <tr style=\"text-align: right;\">\n",
       "      <th></th>\n",
       "      <th>id</th>\n",
       "      <th>price</th>\n",
       "      <th>mode</th>\n",
       "      <th>date</th>\n",
       "    </tr>\n",
       "  </thead>\n",
       "  <tbody>\n",
       "    <tr>\n",
       "      <th>0</th>\n",
       "      <td>1</td>\n",
       "      <td>60</td>\n",
       "      <td>Cash</td>\n",
       "      <td>24-09-2020</td>\n",
       "    </tr>\n",
       "    <tr>\n",
       "      <th>1</th>\n",
       "      <td>2</td>\n",
       "      <td>30</td>\n",
       "      <td>Credit Card</td>\n",
       "      <td>27-04-2020</td>\n",
       "    </tr>\n",
       "    <tr>\n",
       "      <th>2</th>\n",
       "      <td>3</td>\n",
       "      <td>90</td>\n",
       "      <td>Credit Card</td>\n",
       "      <td>07-07-2020</td>\n",
       "    </tr>\n",
       "    <tr>\n",
       "      <th>3</th>\n",
       "      <td>4</td>\n",
       "      <td>50</td>\n",
       "      <td>Debit Crad</td>\n",
       "      <td>12-02-2020</td>\n",
       "    </tr>\n",
       "    <tr>\n",
       "      <th>4</th>\n",
       "      <td>5</td>\n",
       "      <td>40</td>\n",
       "      <td>Mobile Payment</td>\n",
       "      <td>20-11-2020</td>\n",
       "    </tr>\n",
       "  </tbody>\n",
       "</table>\n",
       "</div>"
      ],
      "text/plain": [
       "   id  price            mode        date\n",
       "0   1     60            Cash  24-09-2020\n",
       "1   2     30     Credit Card  27-04-2020\n",
       "2   3     90     Credit Card  07-07-2020\n",
       "3   4     50      Debit Crad  12-02-2020\n",
       "4   5     40  Mobile Payment  20-11-2020"
      ]
     },
     "execution_count": 141,
     "metadata": {},
     "output_type": "execute_result"
    }
   ],
   "source": [
    "df.head()"
   ]
  },
  {
   "cell_type": "code",
   "execution_count": 145,
   "id": "9dbabe8c-a5c5-4b54-b765-19e24bb89bd1",
   "metadata": {},
   "outputs": [
    {
     "data": {
      "text/plain": [
       "id        int64\n",
       "price     int64\n",
       "mode     object\n",
       "date     object\n",
       "dtype: object"
      ]
     },
     "execution_count": 145,
     "metadata": {},
     "output_type": "execute_result"
    }
   ],
   "source": [
    "df.dtypes"
   ]
  },
  {
   "cell_type": "code",
   "execution_count": null,
   "id": "f6d09064-bc01-4b7b-8d8c-58d8606a81ca",
   "metadata": {},
   "outputs": [],
   "source": [
    "pd.to_datetime"
   ]
  },
  {
   "cell_type": "code",
   "execution_count": 149,
   "id": "cc4f55ba-fe93-4e6f-97f3-12b1460b7b3f",
   "metadata": {},
   "outputs": [
    {
     "data": {
      "text/html": [
       "<div>\n",
       "<style scoped>\n",
       "    .dataframe tbody tr th:only-of-type {\n",
       "        vertical-align: middle;\n",
       "    }\n",
       "\n",
       "    .dataframe tbody tr th {\n",
       "        vertical-align: top;\n",
       "    }\n",
       "\n",
       "    .dataframe thead th {\n",
       "        text-align: right;\n",
       "    }\n",
       "</style>\n",
       "<table border=\"1\" class=\"dataframe\">\n",
       "  <thead>\n",
       "    <tr style=\"text-align: right;\">\n",
       "      <th></th>\n",
       "      <th>id</th>\n",
       "      <th>price</th>\n",
       "      <th>mode</th>\n",
       "      <th>date</th>\n",
       "    </tr>\n",
       "  </thead>\n",
       "  <tbody>\n",
       "    <tr>\n",
       "      <th>10</th>\n",
       "      <td>11</td>\n",
       "      <td>70</td>\n",
       "      <td>Cash</td>\n",
       "      <td>01-11-2022</td>\n",
       "    </tr>\n",
       "    <tr>\n",
       "      <th>11</th>\n",
       "      <td>12</td>\n",
       "      <td>60</td>\n",
       "      <td>Netbanking</td>\n",
       "      <td>11-09-2022</td>\n",
       "    </tr>\n",
       "    <tr>\n",
       "      <th>12</th>\n",
       "      <td>13</td>\n",
       "      <td>30</td>\n",
       "      <td>Netbanking</td>\n",
       "      <td>10-12-2022</td>\n",
       "    </tr>\n",
       "    <tr>\n",
       "      <th>13</th>\n",
       "      <td>14</td>\n",
       "      <td>50</td>\n",
       "      <td>Credit Card</td>\n",
       "      <td>14-05-2022</td>\n",
       "    </tr>\n",
       "    <tr>\n",
       "      <th>14</th>\n",
       "      <td>15</td>\n",
       "      <td>30</td>\n",
       "      <td>Credit Card</td>\n",
       "      <td>25-09-2022</td>\n",
       "    </tr>\n",
       "  </tbody>\n",
       "</table>\n",
       "</div>"
      ],
      "text/plain": [
       "    id  price         mode        date\n",
       "10  11     70         Cash  01-11-2022\n",
       "11  12     60   Netbanking  11-09-2022\n",
       "12  13     30   Netbanking  10-12-2022\n",
       "13  14     50  Credit Card  14-05-2022\n",
       "14  15     30  Credit Card  25-09-2022"
      ]
     },
     "execution_count": 149,
     "metadata": {},
     "output_type": "execute_result"
    }
   ],
   "source": [
    "df.tail()"
   ]
  },
  {
   "cell_type": "code",
   "execution_count": null,
   "id": "a07d73b6-fd2d-4397-a07e-131ba1211b12",
   "metadata": {},
   "outputs": [],
   "source": [
    "# pd.to_datetime(df['timestamp']).head()"
   ]
  },
  {
   "cell_type": "code",
   "execution_count": null,
   "id": "79a63a1a-6145-4a6e-889e-e2320b8781e8",
   "metadata": {},
   "outputs": [],
   "source": [
    "# if ther is date and time in the excel it willl read it \n",
    "#as string so change it to actual timestand by above code"
   ]
  },
  {
   "cell_type": "code",
   "execution_count": null,
   "id": "3530382f-10c5-487c-ab60-1615c1585db4",
   "metadata": {},
   "outputs": [],
   "source": [
    " # df.set_index('timestand', inplace=true)\n"
   ]
  },
  {
   "cell_type": "code",
   "execution_count": 160,
   "id": "57aab3bc-1ab5-446e-8eb7-05e7670e5c4d",
   "metadata": {},
   "outputs": [],
   "source": [
    "#df.loc['2017 - 09-29'] now with this code we\n",
    "#can fetch rows by the date"
   ]
  },
  {
   "cell_type": "code",
   "execution_count": 156,
   "id": "ca31afa2-8a23-4d86-8663-87151b10bd78",
   "metadata": {},
   "outputs": [],
   "source": [
    "# so total code to get the timestamp is \n",
    "#df = pd.read_csv('payment.csv' , header =none)\n",
    "#df.columns =['timestamp' , 'price']\n",
    "#df['timestamp'] = pd.s=to_datetime(df['timestamp'])\n",
    "# df/set_index('timestamp', inplace=true)"
   ]
  },
  {
   "cell_type": "code",
   "execution_count": 162,
   "id": "a0256b4c-df3f-4d3f-a9a5-f30e64e65940",
   "metadata": {},
   "outputs": [
    {
     "data": {
      "text/plain": [
       "<Axes: >"
      ]
     },
     "execution_count": 162,
     "metadata": {},
     "output_type": "execute_result"
    },
    {
     "data": {
      "image/png": "[encoded data removed]",
      "text/plain": [
       "<Figure size 640x480 with 1 Axes>"
      ]
     },
     "metadata": {},
     "output_type": "display_data"
    }
   ],
   "source": [
    "df.plot()"
   ]
  }
 ],
 "metadata": {
  "kernelspec": {
   "display_name": "Python 3 (ipykernel)",
   "language": "python",
   "name": "python3"
  },
  "language_info": {
   "codemirror_mode": {
    "name": "ipython",
    "version": 3
   },
   "file_extension": ".py",
   "mimetype": "text/x-python",
   "name": "python",
   "nbconvert_exporter": "python",
   "pygments_lexer": "ipython3",
   "version": "3.12.4"
  }
 },
 "nbformat": 4,
 "nbformat_minor": 5
}
