{
 "cells": [
  {
   "cell_type": "code",
   "execution_count": 2,
   "id": "cdc6711e-f1a3-47a0-b918-fe3e9e16dfc8",
   "metadata": {
    "scrolled": true
   },
   "outputs": [],
   "source": [
    "import sys\n",
    "import numpy as np"
   ]
  },
  {
   "cell_type": "code",
   "execution_count": 4,
   "id": "db819dca-03c3-4b42-9ff1-1c890160bd6a",
   "metadata": {},
   "outputs": [
    {
     "data": {
      "text/plain": [
       "array([1, 2, 3, 4, 5])"
      ]
     },
     "execution_count": 4,
     "metadata": {},
     "output_type": "execute_result"
    }
   ],
   "source": [
    "np.array([1,2,3,4,5])"
   ]
  },
  {
   "cell_type": "code",
   "execution_count": 8,
   "id": "3a25547b-164a-4f04-b264-d10d1267b815",
   "metadata": {},
   "outputs": [
    {
     "data": {
      "text/plain": [
       "array([1, 2, 3, 4, 5])"
      ]
     },
     "execution_count": 8,
     "metadata": {},
     "output_type": "execute_result"
    }
   ],
   "source": [
    "a= np.array([1,2,3,4,5])\n",
    "a"
   ]
  },
  {
   "cell_type": "code",
   "execution_count": 10,
   "id": "4c49f267-78b8-4277-ab8b-4aab6987bb5a",
   "metadata": {},
   "outputs": [
    {
     "data": {
      "text/plain": [
       "(1, 2)"
      ]
     },
     "execution_count": 10,
     "metadata": {},
     "output_type": "execute_result"
    }
   ],
   "source": [
    "a[0] ,a[1]"
   ]
  },
  {
   "cell_type": "code",
   "execution_count": 12,
   "id": "44174411-a80e-40d9-8181-54c9c84c2a16",
   "metadata": {},
   "outputs": [
    {
     "data": {
      "text/plain": [
       "array([1, 2, 3, 4, 5])"
      ]
     },
     "execution_count": 12,
     "metadata": {},
     "output_type": "execute_result"
    }
   ],
   "source": [
    "a[0:]"
   ]
  },
  {
   "cell_type": "code",
   "execution_count": 14,
   "id": "eae3670d-d36f-4db3-b377-46885a75c7f3",
   "metadata": {},
   "outputs": [],
   "source": [
    "import numpy as np\n",
    "b= np.array([1.0,2.0,3.0,4.0])"
   ]
  },
  {
   "cell_type": "code",
   "execution_count": 16,
   "id": "772f3975-f1bd-41ca-97d6-cd24247b1977",
   "metadata": {},
   "outputs": [
    {
     "name": "stdout",
     "output_type": "stream",
     "text": [
      "[1. 2. 3. 4.]\n"
     ]
    }
   ],
   "source": [
    "print(b)"
   ]
  },
  {
   "cell_type": "code",
   "execution_count": 18,
   "id": "ab780acf-481d-445f-a3ef-3784f903733b",
   "metadata": {},
   "outputs": [
    {
     "data": {
      "text/plain": [
       "1.0"
      ]
     },
     "execution_count": 18,
     "metadata": {},
     "output_type": "execute_result"
    }
   ],
   "source": [
    "b[0]\n"
   ]
  },
  {
   "cell_type": "code",
   "execution_count": 20,
   "id": "19dffd30-cc04-41a6-b3b0-8017d3e03892",
   "metadata": {},
   "outputs": [
    {
     "ename": "IndexError",
     "evalue": "too many indices for array: array is 1-dimensional, but 3 were indexed",
     "output_type": "error",
     "traceback": [
      "\u001b[1;31m---------------------------------------------------------------------------\u001b[0m",
      "\u001b[1;31mIndexError\u001b[0m                                Traceback (most recent call last)",
      "Cell \u001b[1;32mIn[20], line 1\u001b[0m\n\u001b[1;32m----> 1\u001b[0m b[\u001b[38;5;241m0\u001b[39m,\u001b[38;5;241m1\u001b[39m,\u001b[38;5;241m2\u001b[39m]\n",
      "\u001b[1;31mIndexError\u001b[0m: too many indices for array: array is 1-dimensional, but 3 were indexed"
     ]
    }
   ],
   "source": [
    "b[0,1,2]"
   ]
  },
  {
   "cell_type": "code",
   "execution_count": 36,
   "id": "489e9ef0-f178-4200-9ee8-1395177d9902",
   "metadata": {},
   "outputs": [
    {
     "data": {
      "text/plain": [
       "array([1., 2., 3.])"
      ]
     },
     "execution_count": 36,
     "metadata": {},
     "output_type": "execute_result"
    }
   ],
   "source": [
    "b[[0, 1, 2]]"
   ]
  },
  {
   "cell_type": "code",
   "execution_count": 38,
   "id": "bcd35618-cca8-4e0a-b7de-f9ac9de21a8d",
   "metadata": {},
   "outputs": [
    {
     "data": {
      "text/plain": [
       "dtype('int32')"
      ]
     },
     "execution_count": 38,
     "metadata": {},
     "output_type": "execute_result"
    }
   ],
   "source": [
    "a.dtype\n"
   ]
  },
  {
   "cell_type": "code",
   "execution_count": 40,
   "id": "d08229d8-8a4f-4ab5-ad1c-0bace6767b1f",
   "metadata": {},
   "outputs": [
    {
     "data": {
      "text/plain": [
       "dtype('float64')"
      ]
     },
     "execution_count": 40,
     "metadata": {},
     "output_type": "execute_result"
    }
   ],
   "source": [
    "b.dtype"
   ]
  },
  {
   "cell_type": "code",
   "execution_count": 42,
   "id": "107f5a1d-533c-4869-b8b3-20ba33ae0c43",
   "metadata": {},
   "outputs": [
    {
     "data": {
      "text/plain": [
       "array([5., 6., 7., 8.])"
      ]
     },
     "execution_count": 42,
     "metadata": {},
     "output_type": "execute_result"
    }
   ],
   "source": [
    "np.array([5,6,7,8], dtype= float)"
   ]
  },
  {
   "cell_type": "code",
   "execution_count": 46,
   "id": "442a620a-36d7-42dc-a5e0-9a1d5385dffd",
   "metadata": {},
   "outputs": [],
   "source": [
    "d= np.array(['a' ,'b' ,'c'])"
   ]
  },
  {
   "cell_type": "code",
   "execution_count": 46,
   "id": "5bc15c6e-73e9-4a89-97b7-548ee32efff1",
   "metadata": {
    "scrolled": true
   },
   "outputs": [
    {
     "data": {
      "text/plain": [
       "'a'"
      ]
     },
     "execution_count": 46,
     "metadata": {},
     "output_type": "execute_result"
    }
   ],
   "source": [
    "d[0]"
   ]
  },
  {
   "cell_type": "code",
   "execution_count": 50,
   "id": "491ff283-3dfd-46c2-a865-cc5b604cf11c",
   "metadata": {},
   "outputs": [
    {
     "data": {
      "text/plain": [
       "dtype('<U1')"
      ]
     },
     "execution_count": 50,
     "metadata": {},
     "output_type": "execute_result"
    }
   ],
   "source": [
    "d.dtype"
   ]
  },
  {
   "cell_type": "code",
   "execution_count": 50,
   "id": "f36e8a12-3949-4ab0-9b8c-094bc6f09cfe",
   "metadata": {},
   "outputs": [],
   "source": [
    "c= np.array([{'a' :1}, sys])"
   ]
  },
  {
   "cell_type": "code",
   "execution_count": 52,
   "id": "4f1fd0c2-2551-4dd1-9134-be00a4b892c8",
   "metadata": {},
   "outputs": [
    {
     "data": {
      "text/plain": [
       "array([{'a': 1}, <module 'sys' (built-in)>], dtype=object)"
      ]
     },
     "execution_count": 52,
     "metadata": {},
     "output_type": "execute_result"
    }
   ],
   "source": [
    "c"
   ]
  },
  {
   "cell_type": "code",
   "execution_count": null,
   "id": "25b97171-c142-4d9a-8273-f8d85ecd3354",
   "metadata": {},
   "outputs": [],
   "source": [
    "multidimensional array\n"
   ]
  },
  {
   "cell_type": "code",
   "execution_count": 64,
   "id": "7d3ce522-aca0-4017-bc7e-0e8f4e337822",
   "metadata": {},
   "outputs": [],
   "source": [
    "import numpy as np\n",
    "A=np.array([\n",
    "    [1,2,4],\n",
    "    [5,6,7]])"
   ]
  },
  {
   "cell_type": "code",
   "execution_count": 72,
   "id": "74a14a7f-d3da-47f8-a3f1-c05273896173",
   "metadata": {},
   "outputs": [
    {
     "data": {
      "text/plain": [
       "array([[1, 2, 4],\n",
       "       [5, 6, 7]])"
      ]
     },
     "execution_count": 72,
     "metadata": {},
     "output_type": "execute_result"
    }
   ],
   "source": [
    "A\n",
    "\n"
   ]
  },
  {
   "cell_type": "code",
   "execution_count": 70,
   "id": "57df128e-fb07-4d4b-9d77-afa9e219e145",
   "metadata": {},
   "outputs": [
    {
     "data": {
      "text/plain": [
       "(2, 3)"
      ]
     },
     "execution_count": 70,
     "metadata": {},
     "output_type": "execute_result"
    }
   ],
   "source": [
    "A.shape\n"
   ]
  },
  {
   "cell_type": "code",
   "execution_count": 74,
   "id": "891cda16-d21f-4b32-a549-a13932e0e54e",
   "metadata": {},
   "outputs": [
    {
     "data": {
      "text/plain": [
       "2"
      ]
     },
     "execution_count": 74,
     "metadata": {},
     "output_type": "execute_result"
    }
   ],
   "source": [
    "A.ndim"
   ]
  },
  {
   "cell_type": "code",
   "execution_count": 76,
   "id": "67c9ad80-9ce4-4aff-b6fc-c175aec91e03",
   "metadata": {},
   "outputs": [
    {
     "data": {
      "text/plain": [
       "6"
      ]
     },
     "execution_count": 76,
     "metadata": {},
     "output_type": "execute_result"
    }
   ],
   "source": [
    "A.size"
   ]
  },
  {
   "cell_type": "code",
   "execution_count": 106,
   "id": "9895f309-f8c0-4cab-ab65-b1f222c85cb2",
   "metadata": {},
   "outputs": [
    {
     "name": "stdout",
     "output_type": "stream",
     "text": [
      "[[[ 1  2  3 11]\n",
      "  [ 4  5  6 13]]\n",
      "\n",
      " [[ 7  8  9 19]\n",
      "  [11 23 45 21]]]\n"
     ]
    }
   ],
   "source": [
    "import numpy as np\n",
    "\n",
    "B = np.array([\n",
    "       [\n",
    "           [1, 2, 3,11], [4, 5, 6,13]\n",
    "       ],  # Comma added here\n",
    "       [\n",
    "           [7, 8, 9,19 ], [11, 23, 45,21]\n",
    "       ]\n",
    "])\n",
    "\n",
    "print(B)\n"
   ]
  },
  {
   "cell_type": "code",
   "execution_count": 2,
   "id": "ee171e9c-d1f8-4aa9-a2c0-eef20b4ffb8d",
   "metadata": {},
   "outputs": [
    {
     "ename": "NameError",
     "evalue": "name 'b' is not defined",
     "output_type": "error",
     "traceback": [
      "\u001b[1;31m---------------------------------------------------------------------------\u001b[0m",
      "\u001b[1;31mNameError\u001b[0m                                 Traceback (most recent call last)",
      "Cell \u001b[1;32mIn[2], line 1\u001b[0m\n\u001b[1;32m----> 1\u001b[0m b\u001b[38;5;241m.\u001b[39mshape\n",
      "\u001b[1;31mNameError\u001b[0m: name 'b' is not defined"
     ]
    }
   ],
   "source": [
    "b.shape"
   ]
  },
  {
   "cell_type": "code",
   "execution_count": 108,
   "id": "6c748af9-7397-4041-abe7-3f2579ad456b",
   "metadata": {},
   "outputs": [
    {
     "data": {
      "text/plain": [
       "(2, 2, 4)"
      ]
     },
     "execution_count": 108,
     "metadata": {},
     "output_type": "execute_result"
    }
   ],
   "source": [
    "B.shape"
   ]
  },
  {
   "cell_type": "code",
   "execution_count": 110,
   "id": "ecd5f554-156b-4838-b9b6-e743ee0a3247",
   "metadata": {},
   "outputs": [
    {
     "data": {
      "text/plain": [
       "3"
      ]
     },
     "execution_count": 110,
     "metadata": {},
     "output_type": "execute_result"
    }
   ],
   "source": [
    "B.ndim"
   ]
  },
  {
   "cell_type": "code",
   "execution_count": 112,
   "id": "9ef45c31-d85a-4b78-8730-b72d3bbb1237",
   "metadata": {},
   "outputs": [
    {
     "data": {
      "text/plain": [
       "16"
      ]
     },
     "execution_count": 112,
     "metadata": {},
     "output_type": "execute_result"
    }
   ],
   "source": [
    "B.size"
   ]
  },
  {
   "cell_type": "code",
   "execution_count": 24,
   "id": "47b5bf2a-fd80-4b22-a709-c827b95a271e",
   "metadata": {},
   "outputs": [],
   "source": [
    "import numpy as np \n",
    "C= np.array(\n",
    "    [\n",
    "    [1,2,3] ,[3,6,7] , [8,9,23] ])"
   ]
  },
  {
   "cell_type": "code",
   "execution_count": null,
   "id": "a6a02d44-cf0f-4c1b-92f2-0db04b72e764",
   "metadata": {},
   "outputs": [],
   "source": []
  },
  {
   "cell_type": "code",
   "execution_count": 26,
   "id": "079694ab-fc0a-41d2-807c-5e5a5212ba61",
   "metadata": {},
   "outputs": [
    {
     "data": {
      "text/plain": [
       "array([1, 2, 3])"
      ]
     },
     "execution_count": 26,
     "metadata": {},
     "output_type": "execute_result"
    }
   ],
   "source": [
    "C[0]"
   ]
  },
  {
   "cell_type": "code",
   "execution_count": 32,
   "id": "5ea8ea88-295b-4273-bc6c-44e55b5ff190",
   "metadata": {},
   "outputs": [
    {
     "data": {
      "text/plain": [
       "array([[ 1,  2,  3],\n",
       "       [ 3,  6,  7],\n",
       "       [ 8,  9, 23]])"
      ]
     },
     "execution_count": 32,
     "metadata": {},
     "output_type": "execute_result"
    }
   ],
   "source": [
    "C"
   ]
  },
  {
   "cell_type": "code",
   "execution_count": 34,
   "id": "6e5963f9-e4da-4eab-b5c5-03525e2b8d53",
   "metadata": {},
   "outputs": [
    {
     "data": {
      "text/plain": [
       "7"
      ]
     },
     "execution_count": 34,
     "metadata": {},
     "output_type": "execute_result"
    }
   ],
   "source": [
    "C[1,2]"
   ]
  },
  {
   "cell_type": "code",
   "execution_count": 38,
   "id": "bd2bc846-a805-430d-9506-9561453b0326",
   "metadata": {},
   "outputs": [
    {
     "data": {
      "text/plain": [
       "array([[1, 2, 3],\n",
       "       [3, 6, 7]])"
      ]
     },
     "execution_count": 38,
     "metadata": {},
     "output_type": "execute_result"
    }
   ],
   "source": [
    "C[0:2]"
   ]
  },
  {
   "cell_type": "code",
   "execution_count": 30,
   "id": "890fccdf-2fd1-4d9d-aa47-4f8701ba396a",
   "metadata": {},
   "outputs": [
    {
     "data": {
      "text/plain": [
       "1"
      ]
     },
     "execution_count": 30,
     "metadata": {},
     "output_type": "execute_result"
    }
   ],
   "source": [
    "C[0,0]"
   ]
  },
  {
   "cell_type": "code",
   "execution_count": 42,
   "id": "13af3bdd-43ae-41f5-9baa-149c1754c269",
   "metadata": {},
   "outputs": [
    {
     "data": {
      "text/plain": [
       "array([[1]])"
      ]
     },
     "execution_count": 42,
     "metadata": {},
     "output_type": "execute_result"
    }
   ],
   "source": [
    "C[0:1 , 0:1]"
   ]
  },
  {
   "cell_type": "code",
   "execution_count": 44,
   "id": "1a54aa09-647d-4a8e-87bf-c0550a8ea7d3",
   "metadata": {},
   "outputs": [
    {
     "data": {
      "text/plain": [
       "array([[1, 2],\n",
       "       [3, 6],\n",
       "       [8, 9]])"
      ]
     },
     "execution_count": 44,
     "metadata": {},
     "output_type": "execute_result"
    }
   ],
   "source": [
    "C[: , :2]"
   ]
  },
  {
   "cell_type": "code",
   "execution_count": 48,
   "id": "95febf80-21af-4099-9eb6-3f32a3ad3f4d",
   "metadata": {},
   "outputs": [
    {
     "data": {
      "text/plain": [
       "array([[1, 2]])"
      ]
     },
     "execution_count": 48,
     "metadata": {},
     "output_type": "execute_result"
    }
   ],
   "source": [
    "C[:1, :2]"
   ]
  },
  {
   "cell_type": "code",
   "execution_count": 58,
   "id": "09e43717-abfa-4bce-ba7d-b0066ee1f3fb",
   "metadata": {},
   "outputs": [],
   "source": [
    "C[1] = np.array([1 ,1, 1])"
   ]
  },
  {
   "cell_type": "code",
   "execution_count": 60,
   "id": "ac2674c3-494b-450e-a8c9-e92a7bb78cbe",
   "metadata": {},
   "outputs": [
    {
     "name": "stdout",
     "output_type": "stream",
     "text": [
      "[[ 1  2  3]\n",
      " [ 1  1  1]\n",
      " [ 8  9 23]]\n"
     ]
    }
   ],
   "source": [
    "print(\n",
    "C\n",
    ")"
   ]
  },
  {
   "cell_type": "code",
   "execution_count": 62,
   "id": "2daf2352-53d0-47f2-89f6-be8017d6a8f9",
   "metadata": {},
   "outputs": [],
   "source": [
    "C[2] =99"
   ]
  },
  {
   "cell_type": "code",
   "execution_count": 66,
   "id": "c1ae63ca-5dc6-4d3b-a022-cbb893c7c1e6",
   "metadata": {},
   "outputs": [
    {
     "data": {
      "text/plain": [
       "array([[ 1,  2,  3],\n",
       "       [ 1,  1,  1],\n",
       "       [99, 99, 99]])"
      ]
     },
     "execution_count": 66,
     "metadata": {},
     "output_type": "execute_result"
    }
   ],
   "source": [
    "C"
   ]
  },
  {
   "cell_type": "code",
   "execution_count": 68,
   "id": "f4a25ad3-d314-41d2-94e1-2ee994851c78",
   "metadata": {},
   "outputs": [],
   "source": [
    "import numpy as np "
   ]
  },
  {
   "cell_type": "code",
   "execution_count": 70,
   "id": "32243ec4-ec0c-4142-bb6c-198723be6b07",
   "metadata": {},
   "outputs": [],
   "source": [
    "a=np.array([1,2,3,4])"
   ]
  },
  {
   "cell_type": "code",
   "execution_count": 72,
   "id": "974e7239-e51b-4d64-b10b-67058a928208",
   "metadata": {},
   "outputs": [
    {
     "data": {
      "text/plain": [
       "array([1, 2, 3, 4])"
      ]
     },
     "execution_count": 72,
     "metadata": {},
     "output_type": "execute_result"
    }
   ],
   "source": [
    "a"
   ]
  },
  {
   "cell_type": "code",
   "execution_count": 76,
   "id": "6f8a8e84-93a4-4fd5-832a-a10f7c3db373",
   "metadata": {},
   "outputs": [
    {
     "data": {
      "text/plain": [
       "10"
      ]
     },
     "execution_count": 76,
     "metadata": {},
     "output_type": "execute_result"
    }
   ],
   "source": [
    "a.sum()"
   ]
  },
  {
   "cell_type": "code",
   "execution_count": 84,
   "id": "0b4837fb-8780-4325-8c8a-519b211ce4dc",
   "metadata": {},
   "outputs": [
    {
     "data": {
      "text/plain": [
       "2.5"
      ]
     },
     "execution_count": 84,
     "metadata": {},
     "output_type": "execute_result"
    }
   ],
   "source": [
    "a.mean()"
   ]
  },
  {
   "cell_type": "code",
   "execution_count": 88,
   "id": "ec28d55c-f58d-4540-8601-f4448aa3c8f6",
   "metadata": {},
   "outputs": [
    {
     "data": {
      "text/plain": [
       "1.25"
      ]
     },
     "execution_count": 88,
     "metadata": {},
     "output_type": "execute_result"
    }
   ],
   "source": [
    "a.var()"
   ]
  },
  {
   "cell_type": "code",
   "execution_count": 90,
   "id": "4ac74615-68f1-481e-881b-07551b91a18b",
   "metadata": {},
   "outputs": [
    {
     "data": {
      "text/plain": [
       "1.118033988749895"
      ]
     },
     "execution_count": 90,
     "metadata": {},
     "output_type": "execute_result"
    }
   ],
   "source": [
    "a.std()"
   ]
  },
  {
   "cell_type": "code",
   "execution_count": 94,
   "id": "afb19b02-3e10-4bad-b6d9-c548d4db2f96",
   "metadata": {},
   "outputs": [],
   "source": [
    "import numpy as np \n",
    "s= np.array(\n",
    "    [\n",
    "    [1,2,3] \n",
    "    ,[3,6,7] ,\n",
    "     [8,9,23] ])"
   ]
  },
  {
   "cell_type": "code",
   "execution_count": 96,
   "id": "3095b71a-3431-49a4-a6dd-16acf975689c",
   "metadata": {},
   "outputs": [
    {
     "data": {
      "text/plain": [
       "array([12, 17, 33])"
      ]
     },
     "execution_count": 96,
     "metadata": {},
     "output_type": "execute_result"
    }
   ],
   "source": [
    "s.sum(axis=0) #vertical sum "
   ]
  },
  {
   "cell_type": "code",
   "execution_count": 100,
   "id": "59720bc2-7f4c-4571-8ffa-49465f356922",
   "metadata": {},
   "outputs": [
    {
     "data": {
      "text/plain": [
       "array([ 6, 16, 40])"
      ]
     },
     "execution_count": 100,
     "metadata": {},
     "output_type": "execute_result"
    }
   ],
   "source": [
    "s.sum(axis=1) # horizontal sum "
   ]
  },
  {
   "cell_type": "code",
   "execution_count": null,
   "id": "e438f8b8-1219-4c02-a152-667d3a8fc36f",
   "metadata": {},
   "outputs": [],
   "source": [
    "s.sum(axis =2) # error because no third dimension"
   ]
  },
  {
   "cell_type": "code",
   "execution_count": 106,
   "id": "bcdd44e3-2e25-4703-a276-4a4f3dd83a78",
   "metadata": {},
   "outputs": [
    {
     "data": {
      "text/plain": [
       "array([2.94392029, 2.86744176, 8.6409876 ])"
      ]
     },
     "execution_count": 106,
     "metadata": {},
     "output_type": "execute_result"
    }
   ],
   "source": [
    "s.std(axis=0)"
   ]
  },
  {
   "cell_type": "code",
   "execution_count": 108,
   "id": "b215500b-3388-42b9-a3b2-f73fab32e455",
   "metadata": {},
   "outputs": [],
   "source": [
    "import numpy as np"
   ]
  },
  {
   "cell_type": "code",
   "execution_count": 123,
   "id": "cb0d9550-e87a-48a5-8491-edcb2f0d86dc",
   "metadata": {},
   "outputs": [],
   "source": [
    "a= np.arange(10)"
   ]
  },
  {
   "cell_type": "code",
   "execution_count": 125,
   "id": "819d77f9-7b29-4620-9e0a-c2af60cd0b76",
   "metadata": {},
   "outputs": [
    {
     "name": "stdout",
     "output_type": "stream",
     "text": [
      "[0 1 2 3 4 5 6 7 8 9]\n"
     ]
    }
   ],
   "source": [
    "print(a)"
   ]
  },
  {
   "cell_type": "code",
   "execution_count": 127,
   "id": "3dc0787e-5442-4a1b-9a0c-68b3b3efa56c",
   "metadata": {
    "scrolled": true
   },
   "outputs": [
    {
     "data": {
      "text/plain": [
       "array([10, 11, 12, 13, 14, 15, 16, 17, 18, 19])"
      ]
     },
     "execution_count": 127,
     "metadata": {},
     "output_type": "execute_result"
    }
   ],
   "source": [
    "a + 10"
   ]
  },
  {
   "cell_type": "code",
   "execution_count": 4,
   "id": "8d8eda55-b0f6-4261-b5f2-bec9d184e5a2",
   "metadata": {},
   "outputs": [],
   "source": [
    "import numpy as np\n"
   ]
  },
  {
   "cell_type": "code",
   "execution_count": 6,
   "id": "595dcbfd-73f9-40c5-8eca-21700435d6f2",
   "metadata": {},
   "outputs": [
    {
     "data": {
      "text/plain": [
       "array([0, 1, 2, 3, 4, 5, 6, 7, 8, 9])"
      ]
     },
     "execution_count": 6,
     "metadata": {},
     "output_type": "execute_result"
    }
   ],
   "source": [
    "a= np.arange(10)\n",
    "a"
   ]
  },
  {
   "cell_type": "code",
   "execution_count": 8,
   "id": "e951f5a4-1226-4608-ba86-2e24e33644eb",
   "metadata": {},
   "outputs": [
    {
     "data": {
      "text/plain": [
       "array([ 0, 10, 20, 30, 40, 50, 60, 70, 80, 90])"
      ]
     },
     "execution_count": 8,
     "metadata": {},
     "output_type": "execute_result"
    }
   ],
   "source": [
    "a * 10"
   ]
  },
  {
   "cell_type": "code",
   "execution_count": 10,
   "id": "53ec2fe2-6bd3-4273-8646-070945c449af",
   "metadata": {},
   "outputs": [
    {
     "data": {
      "text/plain": [
       "array([0, 1, 2, 3, 4, 5, 6, 7, 8, 9])"
      ]
     },
     "execution_count": 10,
     "metadata": {},
     "output_type": "execute_result"
    }
   ],
   "source": [
    "a"
   ]
  },
  {
   "cell_type": "code",
   "execution_count": 12,
   "id": "849fd319-018e-48b1-9e5e-8a5dc243a1f3",
   "metadata": {},
   "outputs": [],
   "source": [
    " a+=100"
   ]
  },
  {
   "cell_type": "code",
   "execution_count": 14,
   "id": "52a3f147-5dc1-413c-b508-fcfbf5c22762",
   "metadata": {},
   "outputs": [
    {
     "data": {
      "text/plain": [
       "array([100, 101, 102, 103, 104, 105, 106, 107, 108, 109])"
      ]
     },
     "execution_count": 14,
     "metadata": {},
     "output_type": "execute_result"
    }
   ],
   "source": [
    "a"
   ]
  },
  {
   "cell_type": "code",
   "execution_count": 143,
   "id": "3a44b3e2-fafd-46f7-82d9-24177e07ddd3",
   "metadata": {},
   "outputs": [],
   "source": [
    "l = [2,5,7,8]"
   ]
  },
  {
   "cell_type": "code",
   "execution_count": 16,
   "id": "a44f7d33-a311-47ef-865c-a3aee89c4144",
   "metadata": {},
   "outputs": [
    {
     "data": {
      "text/plain": [
       "array([100, 101, 102, 103, 104, 105, 106, 107, 108, 109])"
      ]
     },
     "execution_count": 16,
     "metadata": {},
     "output_type": "execute_result"
    }
   ],
   "source": [
    "a"
   ]
  },
  {
   "cell_type": "code",
   "execution_count": null,
   "id": "3435f8ba-6fd7-4732-891b-92061eceb764",
   "metadata": {},
   "outputs": [],
   "source": []
  },
  {
   "cell_type": "code",
   "execution_count": 145,
   "id": "ed4fdb36-73ab-47fa-807c-1554c497eec2",
   "metadata": {},
   "outputs": [
    {
     "data": {
      "text/plain": [
       "[2, 5, 7, 8]"
      ]
     },
     "execution_count": 145,
     "metadata": {},
     "output_type": "execute_result"
    }
   ],
   "source": [
    "l"
   ]
  },
  {
   "cell_type": "code",
   "execution_count": 147,
   "id": "0f22fd89-1728-483c-934b-3c9bba3c3796",
   "metadata": {},
   "outputs": [
    {
     "data": {
      "text/plain": [
       "[20, 50, 70, 80]"
      ]
     },
     "execution_count": 147,
     "metadata": {},
     "output_type": "execute_result"
    }
   ],
   "source": [
    "[i* 10 for i in l]"
   ]
  },
  {
   "cell_type": "code",
   "execution_count": null,
   "id": "b1d53e65-bf58-45b6-96ce-9a2679cfc270",
   "metadata": {},
   "outputs": [],
   "source": []
  },
  {
   "cell_type": "code",
   "execution_count": 22,
   "id": "a160afb0-62c2-4c2e-8559-43eba2224c89",
   "metadata": {},
   "outputs": [
    {
     "data": {
      "text/plain": [
       "array([0, 1, 2, 3])"
      ]
     },
     "execution_count": 22,
     "metadata": {},
     "output_type": "execute_result"
    }
   ],
   "source": [
    "a= np.arange(4\n",
    "            )\n",
    "a\n"
   ]
  },
  {
   "cell_type": "code",
   "execution_count": 24,
   "id": "333f1b77-5828-4869-9db2-0afa33f9666d",
   "metadata": {},
   "outputs": [],
   "source": [
    "b = np.array([6,7,8,9])"
   ]
  },
  {
   "cell_type": "code",
   "execution_count": 26,
   "id": "46b240b1-faf7-4c50-88cb-ac1c10972b00",
   "metadata": {},
   "outputs": [
    {
     "data": {
      "text/plain": [
       "array([ 6,  8, 10, 12])"
      ]
     },
     "execution_count": 26,
     "metadata": {},
     "output_type": "execute_result"
    }
   ],
   "source": [
    "a+b "
   ]
  },
  {
   "cell_type": "code",
   "execution_count": 30,
   "id": "6d827cca-b0d9-4b25-95b8-d961ef77d8a4",
   "metadata": {},
   "outputs": [
    {
     "data": {
      "text/plain": [
       "array([0, 1, 2, 3])"
      ]
     },
     "execution_count": 30,
     "metadata": {},
     "output_type": "execute_result"
    }
   ],
   "source": [
    "a[[ True, True,False ,True]] \n",
    "a"
   ]
  },
  {
   "cell_type": "code",
   "execution_count": 36,
   "id": "94a36793-e291-4d29-b0a0-3cc01e663c54",
   "metadata": {},
   "outputs": [
    {
     "ename": "IndexError",
     "evalue": "boolean index did not match indexed array along dimension 0; dimension is 4 but corresponding boolean dimension is 1",
     "output_type": "error",
     "traceback": [
      "\u001b[1;31m---------------------------------------------------------------------------\u001b[0m",
      "\u001b[1;31mIndexError\u001b[0m                                Traceback (most recent call last)",
      "Cell \u001b[1;32mIn[36], line 1\u001b[0m\n\u001b[1;32m----> 1\u001b[0m a[[\u001b[38;5;28;01mFalse\u001b[39;00m]]\n",
      "\u001b[1;31mIndexError\u001b[0m: boolean index did not match indexed array along dimension 0; dimension is 4 but corresponding boolean dimension is 1"
     ]
    }
   ],
   "source": [
    "a[[False]]"
   ]
  },
  {
   "cell_type": "code",
   "execution_count": 38,
   "id": "3d774335-fba0-4f1b-b02f-f1ea1d4e4c6e",
   "metadata": {},
   "outputs": [
    {
     "data": {
      "text/plain": [
       "array([6, 7, 9])"
      ]
     },
     "execution_count": 38,
     "metadata": {},
     "output_type": "execute_result"
    }
   ],
   "source": [
    "b[[ True, True,False ,True]]"
   ]
  },
  {
   "cell_type": "code",
   "execution_count": 191,
   "id": "601652be-616a-4400-a68f-8e6b6d822606",
   "metadata": {},
   "outputs": [],
   "source": [
    "a= np.arange(4)"
   ]
  },
  {
   "cell_type": "code",
   "execution_count": 197,
   "id": "d1e7ab4b-2c66-4405-ad4d-b6185e2c0705",
   "metadata": {},
   "outputs": [
    {
     "data": {
      "text/plain": [
       "array([False,  True,  True,  True])"
      ]
     },
     "execution_count": 197,
     "metadata": {},
     "output_type": "execute_result"
    }
   ],
   "source": [
    "a>=1"
   ]
  },
  {
   "cell_type": "code",
   "execution_count": 199,
   "id": "cc43fdb7-5df0-4d22-96e5-4491ae1ae773",
   "metadata": {},
   "outputs": [
    {
     "data": {
      "text/plain": [
       "array([False, False,  True,  True])"
      ]
     },
     "execution_count": 199,
     "metadata": {},
     "output_type": "execute_result"
    }
   ],
   "source": [
    "a>=2"
   ]
  },
  {
   "cell_type": "code",
   "execution_count": 209,
   "id": "fa32af2c-6088-429d-bca8-9ce80ec08760",
   "metadata": {},
   "outputs": [
    {
     "data": {
      "text/plain": [
       "array([2, 3])"
      ]
     },
     "execution_count": 209,
     "metadata": {},
     "output_type": "execute_result"
    }
   ],
   "source": [
    "a[a>=2]"
   ]
  },
  {
   "cell_type": "code",
   "execution_count": 211,
   "id": "82fc46e0-215e-4f36-b4be-1f8f3435127c",
   "metadata": {},
   "outputs": [
    {
     "data": {
      "text/plain": [
       "1.5"
      ]
     },
     "execution_count": 211,
     "metadata": {},
     "output_type": "execute_result"
    }
   ],
   "source": [
    "a.mean()"
   ]
  },
  {
   "cell_type": "code",
   "execution_count": 213,
   "id": "6a987cf6-b733-4433-862b-af1b4b6429cc",
   "metadata": {},
   "outputs": [
    {
     "data": {
      "text/plain": [
       "array([2, 3])"
      ]
     },
     "execution_count": 213,
     "metadata": {},
     "output_type": "execute_result"
    }
   ],
   "source": [
    "a[a >= a.mean()]"
   ]
  },
  {
   "cell_type": "code",
   "execution_count": 219,
   "id": "f057bec6-81cb-4476-b924-86ff432d2459",
   "metadata": {},
   "outputs": [
    {
     "data": {
      "text/plain": [
       "array([2])"
      ]
     },
     "execution_count": 219,
     "metadata": {},
     "output_type": "execute_result"
    }
   ],
   "source": [
    "a[ (a>1) & (a<3)]"
   ]
  },
  {
   "cell_type": "code",
   "execution_count": 221,
   "id": "c7fea635-db89-4520-b0cc-304799cdad0e",
   "metadata": {},
   "outputs": [],
   "source": [
    "# LINEAR ALGEBRA"
   ]
  },
  {
   "cell_type": "code",
   "execution_count": 42,
   "id": "ff6bdbeb-e05f-497d-9030-2534b7f76d67",
   "metadata": {},
   "outputs": [
    {
     "name": "stdout",
     "output_type": "stream",
     "text": [
      "[[ 1  2  3]\n",
      " [ 3  6  7]\n",
      " [ 8  9 23]]\n"
     ]
    }
   ],
   "source": [
    "import numpy as np \n",
    "c= np.array(\n",
    "    [\n",
    "    [1,2,3] ,\n",
    "        [3,6,7] , \n",
    "          [8,9,23] ])\n",
    "print (c)"
   ]
  },
  {
   "cell_type": "code",
   "execution_count": 239,
   "id": "37964d9f-5c9b-4b00-a619-11b32278b694",
   "metadata": {},
   "outputs": [],
   "source": [
    "import numpy as np \n",
    "f= np.array(\n",
    "    [\n",
    "    [13,42,3] ,[23,6,77] , [38,9,3] ])"
   ]
  },
  {
   "cell_type": "code",
   "execution_count": 249,
   "id": "3437e501-e7ea-4ed8-8c4e-c44745779a4e",
   "metadata": {
    "scrolled": true
   },
   "outputs": [
    {
     "data": {
      "text/plain": [
       "array([[ 173,   81,  166],\n",
       "       [ 443,  225,  492],\n",
       "       [1185,  597,  786]])"
      ]
     },
     "execution_count": 249,
     "metadata": {},
     "output_type": "execute_result"
    }
   ],
   "source": [
    "c.dot(f) # dot product "
   ]
  },
  {
   "cell_type": "code",
   "execution_count": 251,
   "id": "aa1ea32a-6d06-429b-af6d-4e1531250be1",
   "metadata": {},
   "outputs": [
    {
     "data": {
      "text/plain": [
       "array([[ 173,   81,  166],\n",
       "       [ 443,  225,  492],\n",
       "       [1185,  597,  786]])"
      ]
     },
     "execution_count": 251,
     "metadata": {},
     "output_type": "execute_result"
    }
   ],
   "source": [
    "c @ f # cross product "
   ]
  },
  {
   "cell_type": "code",
   "execution_count": 253,
   "id": "87bb702f-0b42-4cfe-aea4-d405d1d75068",
   "metadata": {},
   "outputs": [
    {
     "data": {
      "text/plain": [
       "array([[ 1,  3,  8],\n",
       "       [ 2,  6,  9],\n",
       "       [ 3,  7, 23]])"
      ]
     },
     "execution_count": 253,
     "metadata": {},
     "output_type": "execute_result"
    }
   ],
   "source": [
    "c.  # transpose "
   ]
  },
  {
   "cell_type": "code",
   "execution_count": 255,
   "id": "4a31ae85-40c0-4ba8-93ac-df9a15e5eeeb",
   "metadata": {},
   "outputs": [
    {
     "data": {
      "text/plain": [
       "array([[ 386,  132,  258],\n",
       "       [ 506,  201,  495],\n",
       "       [1074,  375,  617]])"
      ]
     },
     "execution_count": 255,
     "metadata": {},
     "output_type": "execute_result"
    }
   ],
   "source": [
    "c.T @ f"
   ]
  },
  {
   "cell_type": "code",
   "execution_count": 6,
   "id": "ab5351f3-73f2-4350-b872-6bea9d302da0",
   "metadata": {},
   "outputs": [
    {
     "data": {
      "text/plain": [
       "array([[0, 1, 2, 3, 4],\n",
       "       [5, 6, 7, 8, 9]])"
      ]
     },
     "execution_count": 6,
     "metadata": {},
     "output_type": "execute_result"
    }
   ],
   "source": [
    "import numpy as np\n",
    "np.arange(10).reshape(2,5)"
   ]
  },
  {
   "cell_type": "code",
   "execution_count": 8,
   "id": "791291db-a2aa-4c8c-ba1c-257adbb793da",
   "metadata": {},
   "outputs": [],
   "source": [
    "import numpy as np "
   ]
  },
  {
   "cell_type": "code",
   "execution_count": 20,
   "id": "16436d48-94b5-467d-a063-a3548d2571e8",
   "metadata": {},
   "outputs": [
    {
     "data": {
      "text/plain": [
       "array([[0, 1],\n",
       "       [2, 3],\n",
       "       [4, 5],\n",
       "       [6, 7],\n",
       "       [8, 9]])"
      ]
     },
     "execution_count": 20,
     "metadata": {},
     "output_type": "execute_result"
    }
   ],
   "source": [
    "np.arange(10).reshape(5,2)"
   ]
  },
  {
   "cell_type": "code",
   "execution_count": 24,
   "id": "775da186-eafd-44f0-9fbc-43673ebfb8c5",
   "metadata": {},
   "outputs": [
    {
     "data": {
      "text/plain": [
       "array([0.  , 0.25, 0.5 , 0.75, 1.  ])"
      ]
     },
     "execution_count": 24,
     "metadata": {},
     "output_type": "execute_result"
    }
   ],
   "source": [
    "np.linspace(0 ,1,5)"
   ]
  },
  {
   "cell_type": "code",
   "execution_count": 26,
   "id": "cbeb75c6-db08-4c01-bbe2-992773063ec6",
   "metadata": {},
   "outputs": [
    {
     "data": {
      "text/plain": [
       "array([0.        , 0.05263158, 0.10526316, 0.15789474, 0.21052632,\n",
       "       0.26315789, 0.31578947, 0.36842105, 0.42105263, 0.47368421,\n",
       "       0.52631579, 0.57894737, 0.63157895, 0.68421053, 0.73684211,\n",
       "       0.78947368, 0.84210526, 0.89473684, 0.94736842, 1.        ])"
      ]
     },
     "execution_count": 26,
     "metadata": {},
     "output_type": "execute_result"
    }
   ],
   "source": [
    "np.linspace(0 ,1,20)"
   ]
  },
  {
   "cell_type": "code",
   "execution_count": 36,
   "id": "87b3ed6b-9b15-4f57-82c3-d0f00480ffc0",
   "metadata": {},
   "outputs": [
    {
     "data": {
      "text/plain": [
       "array([0.  , 0.05, 0.1 , 0.15, 0.2 , 0.25, 0.3 , 0.35, 0.4 , 0.45, 0.5 ,\n",
       "       0.55, 0.6 , 0.65, 0.7 , 0.75, 0.8 , 0.85, 0.9 , 0.95])"
      ]
     },
     "execution_count": 36,
     "metadata": {},
     "output_type": "execute_result"
    }
   ],
   "source": [
    "np.linspace(0,1,20,False)"
   ]
  },
  {
   "cell_type": "code",
   "execution_count": 40,
   "id": "bb5b2350-f75e-4180-b5a3-84b8660e4c6c",
   "metadata": {},
   "outputs": [
    {
     "data": {
      "text/plain": [
       "array([0., 0., 0., 0., 0.])"
      ]
     },
     "execution_count": 40,
     "metadata": {},
     "output_type": "execute_result"
    }
   ],
   "source": [
    "np.zeros(5)"
   ]
  },
  {
   "cell_type": "code",
   "execution_count": 42,
   "id": "5bb9182c-1973-43dc-b483-1f41e9930d1e",
   "metadata": {},
   "outputs": [
    {
     "data": {
      "text/plain": [
       "array([0., 0., 0.])"
      ]
     },
     "execution_count": 42,
     "metadata": {},
     "output_type": "execute_result"
    }
   ],
   "source": [
    "np.zeros(3)"
   ]
  },
  {
   "cell_type": "code",
   "execution_count": 46,
   "id": "5fe36b06-d4f1-46e2-bfb6-d3eff5734159",
   "metadata": {},
   "outputs": [
    {
     "data": {
      "text/plain": [
       "array([[0., 0., 0.],\n",
       "       [0., 0., 0.],\n",
       "       [0., 0., 0.]])"
      ]
     },
     "execution_count": 46,
     "metadata": {},
     "output_type": "execute_result"
    }
   ],
   "source": [
    "np.zeros((3,3))"
   ]
  },
  {
   "cell_type": "code",
   "execution_count": 54,
   "id": "938a60af-f5ec-42b5-924d-76bf28eb0188",
   "metadata": {},
   "outputs": [
    {
     "data": {
      "text/plain": [
       "array([[0, 0, 0],\n",
       "       [0, 0, 0],\n",
       "       [0, 0, 0]])"
      ]
     },
     "execution_count": 54,
     "metadata": {},
     "output_type": "execute_result"
    }
   ],
   "source": [
    "np.zeros((3, 3), dtype=int)\n"
   ]
  },
  {
   "cell_type": "code",
   "execution_count": 56,
   "id": "d9a7f10d-ac1b-4d2f-b008-4a9192d2b9d3",
   "metadata": {},
   "outputs": [
    {
     "data": {
      "text/plain": [
       "array([1., 1., 1.])"
      ]
     },
     "execution_count": 56,
     "metadata": {},
     "output_type": "execute_result"
    }
   ],
   "source": [
    "np.ones(3)"
   ]
  },
  {
   "cell_type": "code",
   "execution_count": null,
   "id": "2d7f6371-2c66-4a6b-9243-5d282489a41b",
   "metadata": {},
   "outputs": [],
   "source": []
  }
 ],
 "metadata": {
  "kernelspec": {
   "display_name": "Python 3 (ipykernel)",
   "language": "python",
   "name": "python3"
  },
  "language_info": {
   "codemirror_mode": {
    "name": "ipython",
    "version": 3
   },
   "file_extension": ".py",
   "mimetype": "text/x-python",
   "name": "python",
   "nbconvert_exporter": "python",
   "pygments_lexer": "ipython3",
   "version": "3.12.4"
  }
 },
 "nbformat": 4,
 "nbformat_minor": 5
}
